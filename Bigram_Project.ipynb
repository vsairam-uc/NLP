{
  "nbformat": 4,
  "nbformat_minor": 0,
  "metadata": {
    "colab": {
      "provenance": [],
      "authorship_tag": "ABX9TyPBXOlldQTa7o4YJPonanlx",
      "include_colab_link": true
    },
    "kernelspec": {
      "name": "python3",
      "display_name": "Python 3"
    },
    "language_info": {
      "name": "python"
    }
  },
  "cells": [
    {
      "cell_type": "markdown",
      "metadata": {
        "id": "view-in-github",
        "colab_type": "text"
      },
      "source": [
        "<a href=\"https://colab.research.google.com/github/vsairam-uc/NLP/blob/main/Bigram_Project.ipynb\" target=\"_parent\"><img src=\"https://colab.research.google.com/assets/colab-badge.svg\" alt=\"Open In Colab\"/></a>"
      ]
    },
    {
      "cell_type": "code",
      "execution_count": 39,
      "metadata": {
        "id": "Bd3qvXLx4joX"
      },
      "outputs": [],
      "source": [
        "import nltk\n",
        "import string\n",
        "from collections import Counter"
      ]
    },
    {
      "cell_type": "code",
      "source": [
        "nltk.download('punkt')\n",
        "nltk.download('stopwords')"
      ],
      "metadata": {
        "colab": {
          "base_uri": "https://localhost:8080/"
        },
        "id": "EOUoyxLI5hiC",
        "outputId": "cd737070-2a7a-44df-ee16-752c3e391c07"
      },
      "execution_count": 40,
      "outputs": [
        {
          "output_type": "stream",
          "name": "stderr",
          "text": [
            "[nltk_data] Downloading package punkt to /root/nltk_data...\n",
            "[nltk_data]   Package punkt is already up-to-date!\n",
            "[nltk_data] Downloading package stopwords to /root/nltk_data...\n",
            "[nltk_data]   Package stopwords is already up-to-date!\n"
          ]
        },
        {
          "output_type": "execute_result",
          "data": {
            "text/plain": [
              "True"
            ]
          },
          "metadata": {},
          "execution_count": 40
        }
      ]
    },
    {
      "cell_type": "code",
      "source": [
        "with open('Nyt.200811.txt', 'r') as file:\n",
        "    text = file.read()"
      ],
      "metadata": {
        "id": "YdolUL9i5m8r"
      },
      "execution_count": 41,
      "outputs": []
    },
    {
      "cell_type": "code",
      "source": [
        "# Convert text to lowercase\n",
        "text = text.lower()"
      ],
      "metadata": {
        "id": "vi0HVxoP68mg"
      },
      "execution_count": 42,
      "outputs": []
    },
    {
      "cell_type": "code",
      "source": [
        "# Remove punctuation\n",
        "text = text.translate(str.maketrans('', '', string.punctuation))"
      ],
      "metadata": {
        "id": "gCzuluHj7BSb"
      },
      "execution_count": 43,
      "outputs": []
    },
    {
      "cell_type": "code",
      "source": [
        "tokens = nltk.word_tokenize(text)"
      ],
      "metadata": {
        "id": "qQDkxr_95rW7"
      },
      "execution_count": 44,
      "outputs": []
    },
    {
      "cell_type": "code",
      "source": [
        "#  Remove stopwords\n",
        "from nltk.corpus import stopwords\n",
        "stop_words = set(stopwords.words('english'))\n",
        "filtered_tokens = [word for word in tokens if word not in stop_words]"
      ],
      "metadata": {
        "id": "07W8g7bc75xS"
      },
      "execution_count": 45,
      "outputs": []
    },
    {
      "cell_type": "code",
      "source": [
        "bigrams = list(nltk.bigrams(filtered_tokens))"
      ],
      "metadata": {
        "id": "7k_CaEYm5uBE"
      },
      "execution_count": 46,
      "outputs": []
    },
    {
      "cell_type": "code",
      "source": [
        "bigram_counts = Counter(bigrams)"
      ],
      "metadata": {
        "id": "aqWUGBx455-0"
      },
      "execution_count": 47,
      "outputs": []
    },
    {
      "cell_type": "code",
      "source": [
        "most_common_bigrams = bigram_counts.most_common(10)"
      ],
      "metadata": {
        "id": "2Q29OtsG5-mi"
      },
      "execution_count": 48,
      "outputs": []
    },
    {
      "cell_type": "code",
      "source": [
        "for bigram, count in most_common_bigrams:\n",
        "    print(f'{bigram}: {count}')"
      ],
      "metadata": {
        "colab": {
          "base_uri": "https://localhost:8080/"
        },
        "id": "-GWF0xL86Cbh",
        "outputId": "3da433c7-3efe-4989-c774-ebb2450b8ef4"
      },
      "execution_count": 49,
      "outputs": [
        {
          "output_type": "stream",
          "name": "stdout",
          "text": [
            "('new', 'york'): 326\n",
            "('united', 'states'): 187\n",
            "('barack', 'obama'): 181\n",
            "('john', 'mccain'): 167\n",
            "('last', 'week'): 163\n",
            "('last', 'year'): 132\n",
            "('years', 'ago'): 121\n",
            "('white', 'house'): 87\n",
            "('sen', 'john'): 81\n",
            "('first', 'time'): 80\n"
          ]
        }
      ]
    },
    {
      "cell_type": "code",
      "source": [],
      "metadata": {
        "id": "5k3ijCH16N08"
      },
      "execution_count": 49,
      "outputs": []
    }
  ]
}