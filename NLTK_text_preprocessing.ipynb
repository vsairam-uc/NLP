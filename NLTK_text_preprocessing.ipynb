{
  "nbformat": 4,
  "nbformat_minor": 0,
  "metadata": {
    "colab": {
      "provenance": [],
      "authorship_tag": "ABX9TyPxVRg50jLyW2yCrxpQs7Cr",
      "include_colab_link": true
    },
    "kernelspec": {
      "name": "python3",
      "display_name": "Python 3"
    },
    "language_info": {
      "name": "python"
    }
  },
  "cells": [
    {
      "cell_type": "markdown",
      "metadata": {
        "id": "view-in-github",
        "colab_type": "text"
      },
      "source": [
        "<a href=\"https://colab.research.google.com/github/vsairam-uc/NLP/blob/main/NLTK_text_preprocessing.ipynb\" target=\"_parent\"><img src=\"https://colab.research.google.com/assets/colab-badge.svg\" alt=\"Open In Colab\"/></a>"
      ]
    },
    {
      "cell_type": "markdown",
      "source": [
        "Referenced from https://realpython.com/nltk-nlp-python/"
      ],
      "metadata": {
        "id": "yjPTMlJj54lT"
      }
    },
    {
      "cell_type": "code",
      "execution_count": 1,
      "metadata": {
        "colab": {
          "base_uri": "https://localhost:8080/"
        },
        "id": "pjJqCCvhyq8V",
        "outputId": "6b695394-3645-430d-b846-4a0e5583bfed"
      },
      "outputs": [
        {
          "output_type": "stream",
          "name": "stdout",
          "text": [
            "Collecting nltk==3.5\n",
            "  Downloading nltk-3.5.zip (1.4 MB)\n",
            "\u001b[2K     \u001b[90m━━━━━━━━━━━━━━━━━━━━━━━━━━━━━━━━━━━━━━━━\u001b[0m \u001b[32m1.4/1.4 MB\u001b[0m \u001b[31m11.5 MB/s\u001b[0m eta \u001b[36m0:00:00\u001b[0m\n",
            "\u001b[?25h  Preparing metadata (setup.py) ... \u001b[?25l\u001b[?25hdone\n",
            "Requirement already satisfied: numpy in /usr/local/lib/python3.10/dist-packages (1.25.2)\n",
            "Requirement already satisfied: matplotlib in /usr/local/lib/python3.10/dist-packages (3.7.1)\n",
            "Requirement already satisfied: click in /usr/local/lib/python3.10/dist-packages (from nltk==3.5) (8.1.7)\n",
            "Requirement already satisfied: joblib in /usr/local/lib/python3.10/dist-packages (from nltk==3.5) (1.4.2)\n",
            "Requirement already satisfied: regex in /usr/local/lib/python3.10/dist-packages (from nltk==3.5) (2024.5.15)\n",
            "Requirement already satisfied: tqdm in /usr/local/lib/python3.10/dist-packages (from nltk==3.5) (4.66.4)\n",
            "Requirement already satisfied: contourpy>=1.0.1 in /usr/local/lib/python3.10/dist-packages (from matplotlib) (1.2.1)\n",
            "Requirement already satisfied: cycler>=0.10 in /usr/local/lib/python3.10/dist-packages (from matplotlib) (0.12.1)\n",
            "Requirement already satisfied: fonttools>=4.22.0 in /usr/local/lib/python3.10/dist-packages (from matplotlib) (4.53.1)\n",
            "Requirement already satisfied: kiwisolver>=1.0.1 in /usr/local/lib/python3.10/dist-packages (from matplotlib) (1.4.5)\n",
            "Requirement already satisfied: packaging>=20.0 in /usr/local/lib/python3.10/dist-packages (from matplotlib) (24.1)\n",
            "Requirement already satisfied: pillow>=6.2.0 in /usr/local/lib/python3.10/dist-packages (from matplotlib) (9.4.0)\n",
            "Requirement already satisfied: pyparsing>=2.3.1 in /usr/local/lib/python3.10/dist-packages (from matplotlib) (3.1.2)\n",
            "Requirement already satisfied: python-dateutil>=2.7 in /usr/local/lib/python3.10/dist-packages (from matplotlib) (2.8.2)\n",
            "Requirement already satisfied: six>=1.5 in /usr/local/lib/python3.10/dist-packages (from python-dateutil>=2.7->matplotlib) (1.16.0)\n",
            "Building wheels for collected packages: nltk\n",
            "  Building wheel for nltk (setup.py) ... \u001b[?25l\u001b[?25hdone\n",
            "  Created wheel for nltk: filename=nltk-3.5-py3-none-any.whl size=1434677 sha256=022e5f8e97564997cfc72d013b08c38d529856cf5a1c025d982fdcad4dd844fb\n",
            "  Stored in directory: /root/.cache/pip/wheels/35/ab/82/f9667f6f884d272670a15382599a9c753a1dfdc83f7412e37d\n",
            "Successfully built nltk\n",
            "Installing collected packages: nltk\n",
            "  Attempting uninstall: nltk\n",
            "    Found existing installation: nltk 3.8.1\n",
            "    Uninstalling nltk-3.8.1:\n",
            "      Successfully uninstalled nltk-3.8.1\n",
            "Successfully installed nltk-3.5\n"
          ]
        }
      ],
      "source": [
        "!pip install nltk==3.5 numpy matplotlib"
      ]
    },
    {
      "cell_type": "markdown",
      "source": [
        "##Tokenizing"
      ],
      "metadata": {
        "id": "-wlJ8PPb0OjM"
      }
    },
    {
      "cell_type": "code",
      "source": [
        "import nltk"
      ],
      "metadata": {
        "id": "U1EM1fRx06iD"
      },
      "execution_count": 2,
      "outputs": []
    },
    {
      "cell_type": "code",
      "source": [
        " nltk.download('punkt')"
      ],
      "metadata": {
        "colab": {
          "base_uri": "https://localhost:8080/"
        },
        "id": "BMaxOcMz1J9s",
        "outputId": "5f488f2d-07de-4231-d857-787140762e94"
      },
      "execution_count": 3,
      "outputs": [
        {
          "output_type": "stream",
          "name": "stderr",
          "text": [
            "[nltk_data] Downloading package punkt to /root/nltk_data...\n",
            "[nltk_data]   Unzipping tokenizers/punkt.zip.\n"
          ]
        },
        {
          "output_type": "execute_result",
          "data": {
            "text/plain": [
              "True"
            ]
          },
          "metadata": {},
          "execution_count": 3
        }
      ]
    },
    {
      "cell_type": "markdown",
      "source": [],
      "metadata": {
        "id": "UFONZmDQ08gW"
      }
    },
    {
      "cell_type": "code",
      "source": [
        "from nltk.tokenize import sent_tokenize, word_tokenize"
      ],
      "metadata": {
        "id": "IGxw82mD0Rv2"
      },
      "execution_count": 4,
      "outputs": []
    },
    {
      "cell_type": "code",
      "source": [
        "example_string = \"\"\"\n",
        "... Muad'Dib learned rapidly because his first training was in how to learn.\n",
        "... And the first lesson of all was the basic trust that he could learn.\n",
        "... It's shocking to find how many people do not believe they can learn,\n",
        "... and how many more believe learning to be difficult.\"\"\""
      ],
      "metadata": {
        "id": "Trf5W9xU0pCh"
      },
      "execution_count": 5,
      "outputs": []
    },
    {
      "cell_type": "code",
      "source": [
        "sent_tokenize(example_string)"
      ],
      "metadata": {
        "colab": {
          "base_uri": "https://localhost:8080/"
        },
        "id": "Jq69CESc0vGi",
        "outputId": "d1ba606e-735c-453a-82c7-ceba89c7ab6d"
      },
      "execution_count": 6,
      "outputs": [
        {
          "output_type": "execute_result",
          "data": {
            "text/plain": [
              "[\"\\nMuad'Dib learned rapidly because his first training was in how to learn.\",\n",
              " 'And the first lesson of all was the basic trust that he could learn.',\n",
              " \"It's shocking to find how many people do not believe they can learn,\\nand how many more believe learning to be difficult.\"]"
            ]
          },
          "metadata": {},
          "execution_count": 6
        }
      ]
    },
    {
      "cell_type": "code",
      "source": [
        "word_tokenize(example_string)"
      ],
      "metadata": {
        "colab": {
          "base_uri": "https://localhost:8080/"
        },
        "id": "g7JRampA1Q-T",
        "outputId": "f372ce4f-611a-4195-9663-bfa33e2c76aa"
      },
      "execution_count": 7,
      "outputs": [
        {
          "output_type": "execute_result",
          "data": {
            "text/plain": [
              "[\"Muad'Dib\",\n",
              " 'learned',\n",
              " 'rapidly',\n",
              " 'because',\n",
              " 'his',\n",
              " 'first',\n",
              " 'training',\n",
              " 'was',\n",
              " 'in',\n",
              " 'how',\n",
              " 'to',\n",
              " 'learn',\n",
              " '.',\n",
              " 'And',\n",
              " 'the',\n",
              " 'first',\n",
              " 'lesson',\n",
              " 'of',\n",
              " 'all',\n",
              " 'was',\n",
              " 'the',\n",
              " 'basic',\n",
              " 'trust',\n",
              " 'that',\n",
              " 'he',\n",
              " 'could',\n",
              " 'learn',\n",
              " '.',\n",
              " 'It',\n",
              " \"'s\",\n",
              " 'shocking',\n",
              " 'to',\n",
              " 'find',\n",
              " 'how',\n",
              " 'many',\n",
              " 'people',\n",
              " 'do',\n",
              " 'not',\n",
              " 'believe',\n",
              " 'they',\n",
              " 'can',\n",
              " 'learn',\n",
              " ',',\n",
              " 'and',\n",
              " 'how',\n",
              " 'many',\n",
              " 'more',\n",
              " 'believe',\n",
              " 'learning',\n",
              " 'to',\n",
              " 'be',\n",
              " 'difficult',\n",
              " '.']"
            ]
          },
          "metadata": {},
          "execution_count": 7
        }
      ]
    },
    {
      "cell_type": "markdown",
      "source": [
        "## Filtering stop words"
      ],
      "metadata": {
        "id": "eyhvJRtR2ETF"
      }
    },
    {
      "cell_type": "code",
      "source": [
        "nltk.download(\"stopwords\")\n",
        "from nltk.corpus import stopwords\n",
        "from nltk.tokenize import word_tokenize"
      ],
      "metadata": {
        "colab": {
          "base_uri": "https://localhost:8080/"
        },
        "id": "8yGmeUZQ2JmL",
        "outputId": "ad763964-f0d8-4b7b-ec76-deac23828083"
      },
      "execution_count": 8,
      "outputs": [
        {
          "output_type": "stream",
          "name": "stderr",
          "text": [
            "[nltk_data] Downloading package stopwords to /root/nltk_data...\n",
            "[nltk_data]   Unzipping corpora/stopwords.zip.\n"
          ]
        }
      ]
    },
    {
      "cell_type": "code",
      "source": [
        "worf_quote = \"Sir, I protest. I am not a merry man!\""
      ],
      "metadata": {
        "id": "ieUoNs3j2XJj"
      },
      "execution_count": 9,
      "outputs": []
    },
    {
      "cell_type": "code",
      "source": [
        "words_in_quote = word_tokenize(worf_quote)"
      ],
      "metadata": {
        "id": "IjxFTBMN22t4"
      },
      "execution_count": 10,
      "outputs": []
    },
    {
      "cell_type": "code",
      "source": [
        "words_in_quote"
      ],
      "metadata": {
        "colab": {
          "base_uri": "https://localhost:8080/"
        },
        "id": "7Ex7YKUW24Nx",
        "outputId": "fba8ba09-93a7-4344-fd07-447f0917a66f"
      },
      "execution_count": 11,
      "outputs": [
        {
          "output_type": "execute_result",
          "data": {
            "text/plain": [
              "['Sir', ',', 'I', 'protest', '.', 'I', 'am', 'not', 'a', 'merry', 'man', '!']"
            ]
          },
          "metadata": {},
          "execution_count": 11
        }
      ]
    },
    {
      "cell_type": "code",
      "source": [
        "stop_words = set(stopwords.words(\"english\"))"
      ],
      "metadata": {
        "id": "ouYGC_AR27zJ"
      },
      "execution_count": 12,
      "outputs": []
    },
    {
      "cell_type": "code",
      "source": [
        "filtered_list = [ word for word in words_in_quote if word.casefold() not in stop_words ]\n",
        "filtered_list"
      ],
      "metadata": {
        "colab": {
          "base_uri": "https://localhost:8080/"
        },
        "id": "EU53WUmzv8a_",
        "outputId": "b15b7e11-6d88-4ecc-ed20-7ac86ed2887d"
      },
      "execution_count": 13,
      "outputs": [
        {
          "output_type": "execute_result",
          "data": {
            "text/plain": [
              "['Sir', ',', 'protest', '.', 'merry', 'man', '!']"
            ]
          },
          "metadata": {},
          "execution_count": 13
        }
      ]
    },
    {
      "cell_type": "markdown",
      "source": [
        "## Stemming"
      ],
      "metadata": {
        "id": "_Pl-DC29wvXz"
      }
    },
    {
      "cell_type": "code",
      "source": [
        "from nltk.stem import PorterStemmer\n",
        "from nltk.tokenize import word_tokenize"
      ],
      "metadata": {
        "id": "_fzhV3qgwywF"
      },
      "execution_count": 14,
      "outputs": []
    },
    {
      "cell_type": "code",
      "source": [
        "stemmer = PorterStemmer()"
      ],
      "metadata": {
        "id": "R2pqr5EixHTp"
      },
      "execution_count": 15,
      "outputs": []
    },
    {
      "cell_type": "code",
      "source": [
        "string_for_stemming = \"\"\"\n",
        "... The crew of the USS Discovery discovered many discoveries.\n",
        "... Discovering is what explorers do.\"\"\""
      ],
      "metadata": {
        "id": "-CI8dswBxJxZ"
      },
      "execution_count": 16,
      "outputs": []
    },
    {
      "cell_type": "code",
      "source": [
        "words = word_tokenize(string_for_stemming)\n",
        "words"
      ],
      "metadata": {
        "colab": {
          "base_uri": "https://localhost:8080/"
        },
        "id": "9EaUYSLgxOEZ",
        "outputId": "7d0a0dbc-5795-4acc-8f46-ed1597f55a0c"
      },
      "execution_count": 18,
      "outputs": [
        {
          "output_type": "execute_result",
          "data": {
            "text/plain": [
              "['The',\n",
              " 'crew',\n",
              " 'of',\n",
              " 'the',\n",
              " 'USS',\n",
              " 'Discovery',\n",
              " 'discovered',\n",
              " 'many',\n",
              " 'discoveries',\n",
              " '.',\n",
              " 'Discovering',\n",
              " 'is',\n",
              " 'what',\n",
              " 'explorers',\n",
              " 'do',\n",
              " '.']"
            ]
          },
          "metadata": {},
          "execution_count": 18
        }
      ]
    },
    {
      "cell_type": "code",
      "source": [
        "stemmed_words = [stemmer.stem(word) for word in words]\n",
        "stemmed_words"
      ],
      "metadata": {
        "colab": {
          "base_uri": "https://localhost:8080/"
        },
        "id": "Ave90pEVxQew",
        "outputId": "62366093-9fcb-408b-808e-3f96ed906d86"
      },
      "execution_count": 20,
      "outputs": [
        {
          "output_type": "execute_result",
          "data": {
            "text/plain": [
              "['the',\n",
              " 'crew',\n",
              " 'of',\n",
              " 'the',\n",
              " 'uss',\n",
              " 'discoveri',\n",
              " 'discov',\n",
              " 'mani',\n",
              " 'discoveri',\n",
              " '.',\n",
              " 'discov',\n",
              " 'is',\n",
              " 'what',\n",
              " 'explor',\n",
              " 'do',\n",
              " '.']"
            ]
          },
          "metadata": {},
          "execution_count": 20
        }
      ]
    },
    {
      "cell_type": "markdown",
      "source": [
        "## POS Tagging"
      ],
      "metadata": {
        "id": "IvzpsZAVyHxI"
      }
    },
    {
      "cell_type": "code",
      "source": [
        "sagan_quote = \"\"\"\n",
        "... If you wish to make an apple pie from scratch,\n",
        "... you must first invent the universe.\"\"\""
      ],
      "metadata": {
        "id": "lBJ2SikbyNwc"
      },
      "execution_count": 26,
      "outputs": []
    },
    {
      "cell_type": "code",
      "source": [
        "words_in_sagan_quote = word_tokenize(sagan_quote)"
      ],
      "metadata": {
        "id": "l35DMnYSyw9c"
      },
      "execution_count": 27,
      "outputs": []
    },
    {
      "cell_type": "code",
      "source": [
        "import nltk\n",
        "nltk.download('averaged_perceptron_tagger')"
      ],
      "metadata": {
        "colab": {
          "base_uri": "https://localhost:8080/"
        },
        "id": "gTbCVOWiy0ia",
        "outputId": "ab663718-aebc-425a-b39c-21ecdbb2b6e0"
      },
      "execution_count": 37,
      "outputs": [
        {
          "output_type": "stream",
          "name": "stderr",
          "text": [
            "[nltk_data] Downloading package averaged_perceptron_tagger to\n",
            "[nltk_data]     /root/nltk_data...\n",
            "[nltk_data]   Package averaged_perceptron_tagger is already up-to-\n",
            "[nltk_data]       date!\n"
          ]
        },
        {
          "output_type": "execute_result",
          "data": {
            "text/plain": [
              "True"
            ]
          },
          "metadata": {},
          "execution_count": 37
        }
      ]
    },
    {
      "cell_type": "code",
      "source": [
        "nltk.pos_tag(words_in_sagan_quote)"
      ],
      "metadata": {
        "colab": {
          "base_uri": "https://localhost:8080/"
        },
        "id": "FmsFSjX-zXBN",
        "outputId": "ed5a2e23-2fbc-4516-ced2-523492e71fff"
      },
      "execution_count": 31,
      "outputs": [
        {
          "output_type": "execute_result",
          "data": {
            "text/plain": [
              "[('If', 'IN'),\n",
              " ('you', 'PRP'),\n",
              " ('wish', 'VBP'),\n",
              " ('to', 'TO'),\n",
              " ('make', 'VB'),\n",
              " ('an', 'DT'),\n",
              " ('apple', 'NN'),\n",
              " ('pie', 'NN'),\n",
              " ('from', 'IN'),\n",
              " ('scratch', 'NN'),\n",
              " (',', ','),\n",
              " ('you', 'PRP'),\n",
              " ('must', 'MD'),\n",
              " ('first', 'VB'),\n",
              " ('invent', 'VB'),\n",
              " ('the', 'DT'),\n",
              " ('universe', 'NN'),\n",
              " ('.', '.')]"
            ]
          },
          "metadata": {},
          "execution_count": 31
        }
      ]
    },
    {
      "cell_type": "code",
      "source": [
        "nltk.download('tagsets')\n",
        "nltk.help.upenn_tagset()"
      ],
      "metadata": {
        "colab": {
          "base_uri": "https://localhost:8080/"
        },
        "id": "xIEVIztEzgm-",
        "outputId": "850aeeae-5c86-4dba-d8a9-fc5f94b85ae3"
      },
      "execution_count": 36,
      "outputs": [
        {
          "output_type": "stream",
          "name": "stdout",
          "text": [
            "$: dollar\n",
            "    $ -$ --$ A$ C$ HK$ M$ NZ$ S$ U.S.$ US$\n",
            "'': closing quotation mark\n",
            "    ' ''\n",
            "(: opening parenthesis\n",
            "    ( [ {\n",
            "): closing parenthesis\n",
            "    ) ] }\n",
            ",: comma\n",
            "    ,\n",
            "--: dash\n",
            "    --\n",
            ".: sentence terminator\n",
            "    . ! ?\n",
            ":: colon or ellipsis\n",
            "    : ; ...\n",
            "CC: conjunction, coordinating\n",
            "    & 'n and both but either et for less minus neither nor or plus so\n",
            "    therefore times v. versus vs. whether yet\n",
            "CD: numeral, cardinal\n",
            "    mid-1890 nine-thirty forty-two one-tenth ten million 0.5 one forty-\n",
            "    seven 1987 twenty '79 zero two 78-degrees eighty-four IX '60s .025\n",
            "    fifteen 271,124 dozen quintillion DM2,000 ...\n",
            "DT: determiner\n",
            "    all an another any both del each either every half la many much nary\n",
            "    neither no some such that the them these this those\n",
            "EX: existential there\n",
            "    there\n",
            "FW: foreign word\n",
            "    gemeinschaft hund ich jeux habeas Haementeria Herr K'ang-si vous\n",
            "    lutihaw alai je jour objets salutaris fille quibusdam pas trop Monte\n",
            "    terram fiche oui corporis ...\n",
            "IN: preposition or conjunction, subordinating\n",
            "    astride among uppon whether out inside pro despite on by throughout\n",
            "    below within for towards near behind atop around if like until below\n",
            "    next into if beside ...\n",
            "JJ: adjective or numeral, ordinal\n",
            "    third ill-mannered pre-war regrettable oiled calamitous first separable\n",
            "    ectoplasmic battery-powered participatory fourth still-to-be-named\n",
            "    multilingual multi-disciplinary ...\n",
            "JJR: adjective, comparative\n",
            "    bleaker braver breezier briefer brighter brisker broader bumper busier\n",
            "    calmer cheaper choosier cleaner clearer closer colder commoner costlier\n",
            "    cozier creamier crunchier cuter ...\n",
            "JJS: adjective, superlative\n",
            "    calmest cheapest choicest classiest cleanest clearest closest commonest\n",
            "    corniest costliest crassest creepiest crudest cutest darkest deadliest\n",
            "    dearest deepest densest dinkiest ...\n",
            "LS: list item marker\n",
            "    A A. B B. C C. D E F First G H I J K One SP-44001 SP-44002 SP-44005\n",
            "    SP-44007 Second Third Three Two * a b c d first five four one six three\n",
            "    two\n",
            "MD: modal auxiliary\n",
            "    can cannot could couldn't dare may might must need ought shall should\n",
            "    shouldn't will would\n",
            "NN: noun, common, singular or mass\n",
            "    common-carrier cabbage knuckle-duster Casino afghan shed thermostat\n",
            "    investment slide humour falloff slick wind hyena override subhumanity\n",
            "    machinist ...\n",
            "NNP: noun, proper, singular\n",
            "    Motown Venneboerger Czestochwa Ranzer Conchita Trumplane Christos\n",
            "    Oceanside Escobar Kreisler Sawyer Cougar Yvette Ervin ODI Darryl CTCA\n",
            "    Shannon A.K.C. Meltex Liverpool ...\n",
            "NNPS: noun, proper, plural\n",
            "    Americans Americas Amharas Amityvilles Amusements Anarcho-Syndicalists\n",
            "    Andalusians Andes Andruses Angels Animals Anthony Antilles Antiques\n",
            "    Apache Apaches Apocrypha ...\n",
            "NNS: noun, common, plural\n",
            "    undergraduates scotches bric-a-brac products bodyguards facets coasts\n",
            "    divestitures storehouses designs clubs fragrances averages\n",
            "    subjectivists apprehensions muses factory-jobs ...\n",
            "PDT: pre-determiner\n",
            "    all both half many quite such sure this\n",
            "POS: genitive marker\n",
            "    ' 's\n",
            "PRP: pronoun, personal\n",
            "    hers herself him himself hisself it itself me myself one oneself ours\n",
            "    ourselves ownself self she thee theirs them themselves they thou thy us\n",
            "PRP$: pronoun, possessive\n",
            "    her his mine my our ours their thy your\n",
            "RB: adverb\n",
            "    occasionally unabatingly maddeningly adventurously professedly\n",
            "    stirringly prominently technologically magisterially predominately\n",
            "    swiftly fiscally pitilessly ...\n",
            "RBR: adverb, comparative\n",
            "    further gloomier grander graver greater grimmer harder harsher\n",
            "    healthier heavier higher however larger later leaner lengthier less-\n",
            "    perfectly lesser lonelier longer louder lower more ...\n",
            "RBS: adverb, superlative\n",
            "    best biggest bluntest earliest farthest first furthest hardest\n",
            "    heartiest highest largest least less most nearest second tightest worst\n",
            "RP: particle\n",
            "    aboard about across along apart around aside at away back before behind\n",
            "    by crop down ever fast for forth from go high i.e. in into just later\n",
            "    low more off on open out over per pie raising start teeth that through\n",
            "    under unto up up-pp upon whole with you\n",
            "SYM: symbol\n",
            "    % & ' '' ''. ) ). * + ,. < = > @ A[fj] U.S U.S.S.R * ** ***\n",
            "TO: \"to\" as preposition or infinitive marker\n",
            "    to\n",
            "UH: interjection\n",
            "    Goodbye Goody Gosh Wow Jeepers Jee-sus Hubba Hey Kee-reist Oops amen\n",
            "    huh howdy uh dammit whammo shucks heck anyways whodunnit honey golly\n",
            "    man baby diddle hush sonuvabitch ...\n",
            "VB: verb, base form\n",
            "    ask assemble assess assign assume atone attention avoid bake balkanize\n",
            "    bank begin behold believe bend benefit bevel beware bless boil bomb\n",
            "    boost brace break bring broil brush build ...\n",
            "VBD: verb, past tense\n",
            "    dipped pleaded swiped regummed soaked tidied convened halted registered\n",
            "    cushioned exacted snubbed strode aimed adopted belied figgered\n",
            "    speculated wore appreciated contemplated ...\n",
            "VBG: verb, present participle or gerund\n",
            "    telegraphing stirring focusing angering judging stalling lactating\n",
            "    hankerin' alleging veering capping approaching traveling besieging\n",
            "    encrypting interrupting erasing wincing ...\n",
            "VBN: verb, past participle\n",
            "    multihulled dilapidated aerosolized chaired languished panelized used\n",
            "    experimented flourished imitated reunifed factored condensed sheared\n",
            "    unsettled primed dubbed desired ...\n",
            "VBP: verb, present tense, not 3rd person singular\n",
            "    predominate wrap resort sue twist spill cure lengthen brush terminate\n",
            "    appear tend stray glisten obtain comprise detest tease attract\n",
            "    emphasize mold postpone sever return wag ...\n",
            "VBZ: verb, present tense, 3rd person singular\n",
            "    bases reconstructs marks mixes displeases seals carps weaves snatches\n",
            "    slumps stretches authorizes smolders pictures emerges stockpiles\n",
            "    seduces fizzes uses bolsters slaps speaks pleads ...\n",
            "WDT: WH-determiner\n",
            "    that what whatever which whichever\n",
            "WP: WH-pronoun\n",
            "    that what whatever whatsoever which who whom whosoever\n",
            "WP$: WH-pronoun, possessive\n",
            "    whose\n",
            "WRB: Wh-adverb\n",
            "    how however whence whenever where whereby whereever wherein whereof why\n",
            "``: opening quotation mark\n",
            "    ` ``\n"
          ]
        },
        {
          "output_type": "stream",
          "name": "stderr",
          "text": [
            "[nltk_data] Downloading package tagsets to /root/nltk_data...\n",
            "[nltk_data]   Unzipping help/tagsets.zip.\n"
          ]
        }
      ]
    },
    {
      "cell_type": "code",
      "source": [
        "jabberwocky_excerpt = \"\"\"\n",
        "... 'Twas brillig, and the slithy toves did gyre and gimble in the wabe:\n",
        "... all mimsy were the borogoves, and the mome raths outgrabe.\"\"\""
      ],
      "metadata": {
        "id": "t2Ofxi9Dz9uT"
      },
      "execution_count": 38,
      "outputs": []
    },
    {
      "cell_type": "code",
      "source": [
        "words_in_excerpt = word_tokenize(jabberwocky_excerpt)\n",
        "nltk.pos_tag(words_in_excerpt)"
      ],
      "metadata": {
        "colab": {
          "base_uri": "https://localhost:8080/"
        },
        "id": "vR0pFdqD0GZ5",
        "outputId": "892c833d-36c3-4aaa-f959-5e1adc4bb2e8"
      },
      "execution_count": 39,
      "outputs": [
        {
          "output_type": "execute_result",
          "data": {
            "text/plain": [
              "[(\"'Twas\", 'CD'),\n",
              " ('brillig', 'NN'),\n",
              " (',', ','),\n",
              " ('and', 'CC'),\n",
              " ('the', 'DT'),\n",
              " ('slithy', 'JJ'),\n",
              " ('toves', 'NNS'),\n",
              " ('did', 'VBD'),\n",
              " ('gyre', 'NN'),\n",
              " ('and', 'CC'),\n",
              " ('gimble', 'JJ'),\n",
              " ('in', 'IN'),\n",
              " ('the', 'DT'),\n",
              " ('wabe', 'NN'),\n",
              " (':', ':'),\n",
              " ('all', 'DT'),\n",
              " ('mimsy', 'NNS'),\n",
              " ('were', 'VBD'),\n",
              " ('the', 'DT'),\n",
              " ('borogoves', 'NNS'),\n",
              " (',', ','),\n",
              " ('and', 'CC'),\n",
              " ('the', 'DT'),\n",
              " ('mome', 'JJ'),\n",
              " ('raths', 'NNS'),\n",
              " ('outgrabe', 'RB'),\n",
              " ('.', '.')]"
            ]
          },
          "metadata": {},
          "execution_count": 39
        }
      ]
    },
    {
      "cell_type": "markdown",
      "source": [
        "## Lemmatizing"
      ],
      "metadata": {
        "id": "JLu-RmHk0ls4"
      }
    },
    {
      "cell_type": "code",
      "source": [
        "from nltk.stem import WordNetLemmatizer\n",
        "nltk.download('wordnet')"
      ],
      "metadata": {
        "colab": {
          "base_uri": "https://localhost:8080/"
        },
        "id": "M8CGJVwe0oYZ",
        "outputId": "a82efb7b-0caa-499e-f14c-8157c477596d"
      },
      "execution_count": 43,
      "outputs": [
        {
          "output_type": "stream",
          "name": "stderr",
          "text": [
            "[nltk_data] Downloading package wordnet to /root/nltk_data...\n"
          ]
        },
        {
          "output_type": "execute_result",
          "data": {
            "text/plain": [
              "True"
            ]
          },
          "metadata": {},
          "execution_count": 43
        }
      ]
    },
    {
      "cell_type": "code",
      "source": [
        "lemmatizer = WordNetLemmatizer()"
      ],
      "metadata": {
        "id": "hLVw4khb0wqO"
      },
      "execution_count": 44,
      "outputs": []
    },
    {
      "cell_type": "code",
      "source": [
        "lemmatizer.lemmatize(\"scarves\")"
      ],
      "metadata": {
        "colab": {
          "base_uri": "https://localhost:8080/",
          "height": 35
        },
        "id": "JMU6jaLM0xZp",
        "outputId": "eae33482-be57-4cfa-ec66-40d708a851fb"
      },
      "execution_count": 45,
      "outputs": [
        {
          "output_type": "execute_result",
          "data": {
            "text/plain": [
              "'scarf'"
            ],
            "application/vnd.google.colaboratory.intrinsic+json": {
              "type": "string"
            }
          },
          "metadata": {},
          "execution_count": 45
        }
      ]
    },
    {
      "cell_type": "code",
      "source": [
        "string_for_lemmatizing = \"The friends of DeSoto love scarves.\"\n",
        "words = word_tokenize(string_for_lemmatizing)\n",
        "words"
      ],
      "metadata": {
        "colab": {
          "base_uri": "https://localhost:8080/"
        },
        "id": "ufceIxow07Yo",
        "outputId": "91749969-1b9a-4ec2-92da-69cd28147df1"
      },
      "execution_count": 46,
      "outputs": [
        {
          "output_type": "execute_result",
          "data": {
            "text/plain": [
              "['The', 'friends', 'of', 'DeSoto', 'love', 'scarves', '.']"
            ]
          },
          "metadata": {},
          "execution_count": 46
        }
      ]
    },
    {
      "cell_type": "code",
      "source": [
        "lemmatized_words = [lemmatizer.lemmatize(word) for word in words]\n",
        "lemmatized_words"
      ],
      "metadata": {
        "colab": {
          "base_uri": "https://localhost:8080/"
        },
        "id": "t_3PdyEy1JiV",
        "outputId": "1bdbac40-941e-4fa7-c8e0-fa62f09f5716"
      },
      "execution_count": 47,
      "outputs": [
        {
          "output_type": "execute_result",
          "data": {
            "text/plain": [
              "['The', 'friend', 'of', 'DeSoto', 'love', 'scarf', '.']"
            ]
          },
          "metadata": {},
          "execution_count": 47
        }
      ]
    },
    {
      "cell_type": "code",
      "source": [
        "lemmatizer.lemmatize(\"worst\")"
      ],
      "metadata": {
        "colab": {
          "base_uri": "https://localhost:8080/",
          "height": 35
        },
        "id": "ygFRNA7y1Mar",
        "outputId": "17f2336d-546a-4ed2-aa3c-fa25c56898a6"
      },
      "execution_count": 48,
      "outputs": [
        {
          "output_type": "execute_result",
          "data": {
            "text/plain": [
              "'worst'"
            ],
            "application/vnd.google.colaboratory.intrinsic+json": {
              "type": "string"
            }
          },
          "metadata": {},
          "execution_count": 48
        }
      ]
    },
    {
      "cell_type": "code",
      "source": [
        "lemmatizer.lemmatize(\"worst\", pos=\"a\")"
      ],
      "metadata": {
        "colab": {
          "base_uri": "https://localhost:8080/",
          "height": 35
        },
        "id": "jxH6scTu1UvM",
        "outputId": "4278f82a-29ea-4cb6-a388-2422f9f22d91"
      },
      "execution_count": 49,
      "outputs": [
        {
          "output_type": "execute_result",
          "data": {
            "text/plain": [
              "'bad'"
            ],
            "application/vnd.google.colaboratory.intrinsic+json": {
              "type": "string"
            }
          },
          "metadata": {},
          "execution_count": 49
        }
      ]
    },
    {
      "cell_type": "markdown",
      "source": [
        "## Chunking"
      ],
      "metadata": {
        "id": "Wzgu98Vi1YKG"
      }
    },
    {
      "cell_type": "code",
      "source": [
        "lotr_quote = \"It's a dangerous business, Frodo, going out your door.\""
      ],
      "metadata": {
        "id": "tLauypQt1bhX"
      },
      "execution_count": 50,
      "outputs": []
    },
    {
      "cell_type": "code",
      "source": [
        "words_in_lotr_quote = word_tokenize(lotr_quote)\n",
        "words_in_lotr_quote"
      ],
      "metadata": {
        "colab": {
          "base_uri": "https://localhost:8080/"
        },
        "id": "YZjbW1gH11Hm",
        "outputId": "03f9e0dc-2643-42d2-ad51-48094e230211"
      },
      "execution_count": 51,
      "outputs": [
        {
          "output_type": "execute_result",
          "data": {
            "text/plain": [
              "['It',\n",
              " \"'s\",\n",
              " 'a',\n",
              " 'dangerous',\n",
              " 'business',\n",
              " ',',\n",
              " 'Frodo',\n",
              " ',',\n",
              " 'going',\n",
              " 'out',\n",
              " 'your',\n",
              " 'door',\n",
              " '.']"
            ]
          },
          "metadata": {},
          "execution_count": 51
        }
      ]
    },
    {
      "cell_type": "code",
      "source": [
        "lotr_pos_tags = nltk.pos_tag(words_in_lotr_quote)\n",
        "lotr_pos_tags"
      ],
      "metadata": {
        "colab": {
          "base_uri": "https://localhost:8080/"
        },
        "id": "ufkRJzTZ189V",
        "outputId": "65982dc8-d93a-42c1-ed52-cec85337ddf5"
      },
      "execution_count": 52,
      "outputs": [
        {
          "output_type": "execute_result",
          "data": {
            "text/plain": [
              "[('It', 'PRP'),\n",
              " (\"'s\", 'VBZ'),\n",
              " ('a', 'DT'),\n",
              " ('dangerous', 'JJ'),\n",
              " ('business', 'NN'),\n",
              " (',', ','),\n",
              " ('Frodo', 'NNP'),\n",
              " (',', ','),\n",
              " ('going', 'VBG'),\n",
              " ('out', 'RP'),\n",
              " ('your', 'PRP$'),\n",
              " ('door', 'NN'),\n",
              " ('.', '.')]"
            ]
          },
          "metadata": {},
          "execution_count": 52
        }
      ]
    },
    {
      "cell_type": "code",
      "source": [
        "grammar = \"NP: {<DT>?<JJ>*<NN>}\""
      ],
      "metadata": {
        "id": "-uFLdRlZ1_ep"
      },
      "execution_count": 53,
      "outputs": []
    },
    {
      "cell_type": "code",
      "source": [
        "chunk_parser = nltk.RegexpParser(grammar)"
      ],
      "metadata": {
        "id": "3Yll99s_2IZr"
      },
      "execution_count": 54,
      "outputs": []
    },
    {
      "cell_type": "code",
      "source": [
        "tree = chunk_parser.parse(lotr_pos_tags)"
      ],
      "metadata": {
        "id": "tA70wxJO2UXh"
      },
      "execution_count": 57,
      "outputs": []
    },
    {
      "cell_type": "code",
      "source": [
        "print(tree)"
      ],
      "metadata": {
        "colab": {
          "base_uri": "https://localhost:8080/"
        },
        "id": "0IP0aAN42bEr",
        "outputId": "ee6cafbb-c285-4c58-efb8-e757d8cdd2fe"
      },
      "execution_count": 59,
      "outputs": [
        {
          "output_type": "stream",
          "name": "stdout",
          "text": [
            "(S\n",
            "  It/PRP\n",
            "  's/VBZ\n",
            "  (NP a/DT dangerous/JJ business/NN)\n",
            "  ,/,\n",
            "  Frodo/NNP\n",
            "  ,/,\n",
            "  going/VBG\n",
            "  out/RP\n",
            "  your/PRP$\n",
            "  (NP door/NN)\n",
            "  ./.)\n"
          ]
        }
      ]
    },
    {
      "cell_type": "markdown",
      "source": [
        "## Chinking"
      ],
      "metadata": {
        "id": "ebiizit12qO7"
      }
    },
    {
      "cell_type": "code",
      "source": [
        "lotr_pos_tags"
      ],
      "metadata": {
        "colab": {
          "base_uri": "https://localhost:8080/"
        },
        "id": "CYpAV01q2r8O",
        "outputId": "eda0ff8f-43c3-4ed3-c0f4-2c559f9da39e"
      },
      "execution_count": 60,
      "outputs": [
        {
          "output_type": "execute_result",
          "data": {
            "text/plain": [
              "[('It', 'PRP'),\n",
              " (\"'s\", 'VBZ'),\n",
              " ('a', 'DT'),\n",
              " ('dangerous', 'JJ'),\n",
              " ('business', 'NN'),\n",
              " (',', ','),\n",
              " ('Frodo', 'NNP'),\n",
              " (',', ','),\n",
              " ('going', 'VBG'),\n",
              " ('out', 'RP'),\n",
              " ('your', 'PRP$'),\n",
              " ('door', 'NN'),\n",
              " ('.', '.')]"
            ]
          },
          "metadata": {},
          "execution_count": 60
        }
      ]
    },
    {
      "cell_type": "code",
      "source": [
        "grammar = \"\"\"\n",
        "... Chunk: {<.*>+}\n",
        "...        }<JJ>{\"\"\""
      ],
      "metadata": {
        "id": "P_aFq8OR3KTp"
      },
      "execution_count": 61,
      "outputs": []
    },
    {
      "cell_type": "code",
      "source": [
        "chunk_parser = nltk.RegexpParser(grammar)"
      ],
      "metadata": {
        "id": "0WzTrQMM3Ny3"
      },
      "execution_count": 62,
      "outputs": []
    },
    {
      "cell_type": "code",
      "source": [
        "tree = chunk_parser.parse(lotr_pos_tags)"
      ],
      "metadata": {
        "id": "blgrelYT3bdk"
      },
      "execution_count": 63,
      "outputs": []
    },
    {
      "cell_type": "code",
      "source": [
        "print(tree)"
      ],
      "metadata": {
        "colab": {
          "base_uri": "https://localhost:8080/"
        },
        "id": "ZMm0uZ773caB",
        "outputId": "edbf8449-314e-485c-e21f-853b078a532a"
      },
      "execution_count": 66,
      "outputs": [
        {
          "output_type": "stream",
          "name": "stdout",
          "text": [
            "(S\n",
            "  (Chunk It/PRP 's/VBZ a/DT)\n",
            "  dangerous/JJ\n",
            "  (Chunk\n",
            "    business/NN\n",
            "    ,/,\n",
            "    Frodo/NNP\n",
            "    ,/,\n",
            "    going/VBG\n",
            "    out/RP\n",
            "    your/PRP$\n",
            "    door/NN\n",
            "    ./.))\n"
          ]
        }
      ]
    },
    {
      "cell_type": "markdown",
      "source": [
        "## Using Named Entity Recognition(NER)"
      ],
      "metadata": {
        "id": "lGDXguKm3nJD"
      }
    },
    {
      "cell_type": "code",
      "source": [
        "nltk.download(\"maxent_ne_chunker\")\n",
        "nltk.download(\"words\")"
      ],
      "metadata": {
        "colab": {
          "base_uri": "https://localhost:8080/"
        },
        "id": "HQ4-Kp8k3trd",
        "outputId": "e2bc9bc9-f3fb-4361-8be7-16dbcfc89215"
      },
      "execution_count": 68,
      "outputs": [
        {
          "output_type": "stream",
          "name": "stderr",
          "text": [
            "[nltk_data] Downloading package maxent_ne_chunker to\n",
            "[nltk_data]     /root/nltk_data...\n",
            "[nltk_data]   Unzipping chunkers/maxent_ne_chunker.zip.\n",
            "[nltk_data] Downloading package words to /root/nltk_data...\n",
            "[nltk_data]   Unzipping corpora/words.zip.\n"
          ]
        },
        {
          "output_type": "execute_result",
          "data": {
            "text/plain": [
              "True"
            ]
          },
          "metadata": {},
          "execution_count": 68
        }
      ]
    },
    {
      "cell_type": "code",
      "source": [
        "tree = nltk.ne_chunk(lotr_pos_tags)\n",
        "print(tree)"
      ],
      "metadata": {
        "colab": {
          "base_uri": "https://localhost:8080/"
        },
        "id": "ezPP2N304Add",
        "outputId": "ad0ae268-09ed-480e-d540-eca2fe4874a3"
      },
      "execution_count": 71,
      "outputs": [
        {
          "output_type": "stream",
          "name": "stdout",
          "text": [
            "(S\n",
            "  It/PRP\n",
            "  's/VBZ\n",
            "  a/DT\n",
            "  dangerous/JJ\n",
            "  business/NN\n",
            "  ,/,\n",
            "  (PERSON Frodo/NNP)\n",
            "  ,/,\n",
            "  going/VBG\n",
            "  out/RP\n",
            "  your/PRP$\n",
            "  door/NN\n",
            "  ./.)\n"
          ]
        }
      ]
    },
    {
      "cell_type": "code",
      "source": [
        "tree = nltk.ne_chunk(lotr_pos_tags, binary=True)\n",
        "print(tree)"
      ],
      "metadata": {
        "colab": {
          "base_uri": "https://localhost:8080/"
        },
        "id": "I7GOMofi4V45",
        "outputId": "91bb2e04-76db-451e-e795-8b5e49fb0434"
      },
      "execution_count": 73,
      "outputs": [
        {
          "output_type": "stream",
          "name": "stdout",
          "text": [
            "(S\n",
            "  It/PRP\n",
            "  's/VBZ\n",
            "  a/DT\n",
            "  dangerous/JJ\n",
            "  business/NN\n",
            "  ,/,\n",
            "  (NE Frodo/NNP)\n",
            "  ,/,\n",
            "  going/VBG\n",
            "  out/RP\n",
            "  your/PRP$\n",
            "  door/NN\n",
            "  ./.)\n"
          ]
        }
      ]
    },
    {
      "cell_type": "code",
      "source": [
        "quote = \"\"\"\n",
        "... Men like Schiaparelli watched the red planet—it is odd, by-the-bye, that\n",
        "... for countless centuries Mars has been the star of war—but failed to\n",
        "... interpret the fluctuating appearances of the markings they mapped so well.\n",
        "... All that time the Martians must have been getting ready.\n",
        "...\n",
        "... During the opposition of 1894 a great light was seen on the illuminated\n",
        "... part of the disk, first at the Lick Observatory, then by Perrotin of Nice,\n",
        "... and then by other observers. English readers heard of it first in the\n",
        "... issue of Nature dated August 2.\"\"\""
      ],
      "metadata": {
        "id": "7VI4OLkC4bZx"
      },
      "execution_count": 74,
      "outputs": []
    },
    {
      "cell_type": "code",
      "source": [
        "def extract_ne(quote):\n",
        "  words = word_tokenize(quote)\n",
        "  pos_tags = nltk.pos_tag(words)\n",
        "  ne_tree = nltk.ne_chunk(pos_tags, binary=True)\n",
        "\n",
        "  return set(\" \".join( i[0] for i in t) for t in ne_tree if hasattr(t, 'label') and t.label() == 'NE')"
      ],
      "metadata": {
        "id": "BCgJiJR94gXd"
      },
      "execution_count": 75,
      "outputs": []
    },
    {
      "cell_type": "code",
      "source": [
        "extract_ne(quote)"
      ],
      "metadata": {
        "colab": {
          "base_uri": "https://localhost:8080/"
        },
        "id": "rx4i3_Iu5Crz",
        "outputId": "75500dd0-1cc6-4164-9a70-26946352659b"
      },
      "execution_count": 76,
      "outputs": [
        {
          "output_type": "execute_result",
          "data": {
            "text/plain": [
              "{'Lick Observatory', 'Mars', 'Nature', 'Perrotin', 'Schiaparelli'}"
            ]
          },
          "metadata": {},
          "execution_count": 76
        }
      ]
    },
    {
      "cell_type": "markdown",
      "source": [
        "## Analyzing Corpus"
      ],
      "metadata": {
        "id": "2dY5GDEK5RSb"
      }
    },
    {
      "cell_type": "code",
      "source": [
        "nltk.download(\"book\")\n",
        "from nltk.book import *"
      ],
      "metadata": {
        "colab": {
          "base_uri": "https://localhost:8080/"
        },
        "id": "LA4_mfOz5Uqw",
        "outputId": "834ef55d-e9c2-4c0f-97bc-539c1caa4ca9"
      },
      "execution_count": 77,
      "outputs": [
        {
          "output_type": "stream",
          "name": "stderr",
          "text": [
            "[nltk_data] Downloading collection 'book'\n",
            "[nltk_data]    | \n",
            "[nltk_data]    | Downloading package abc to /root/nltk_data...\n",
            "[nltk_data]    |   Unzipping corpora/abc.zip.\n",
            "[nltk_data]    | Downloading package brown to /root/nltk_data...\n",
            "[nltk_data]    |   Unzipping corpora/brown.zip.\n",
            "[nltk_data]    | Downloading package chat80 to /root/nltk_data...\n",
            "[nltk_data]    |   Unzipping corpora/chat80.zip.\n",
            "[nltk_data]    | Downloading package cmudict to /root/nltk_data...\n",
            "[nltk_data]    |   Unzipping corpora/cmudict.zip.\n",
            "[nltk_data]    | Downloading package conll2000 to /root/nltk_data...\n",
            "[nltk_data]    |   Unzipping corpora/conll2000.zip.\n",
            "[nltk_data]    | Downloading package conll2002 to /root/nltk_data...\n",
            "[nltk_data]    |   Unzipping corpora/conll2002.zip.\n",
            "[nltk_data]    | Downloading package dependency_treebank to\n",
            "[nltk_data]    |     /root/nltk_data...\n",
            "[nltk_data]    |   Unzipping corpora/dependency_treebank.zip.\n",
            "[nltk_data]    | Downloading package genesis to /root/nltk_data...\n",
            "[nltk_data]    |   Unzipping corpora/genesis.zip.\n",
            "[nltk_data]    | Downloading package gutenberg to /root/nltk_data...\n",
            "[nltk_data]    |   Unzipping corpora/gutenberg.zip.\n",
            "[nltk_data]    | Downloading package ieer to /root/nltk_data...\n",
            "[nltk_data]    |   Unzipping corpora/ieer.zip.\n",
            "[nltk_data]    | Downloading package inaugural to /root/nltk_data...\n",
            "[nltk_data]    |   Unzipping corpora/inaugural.zip.\n",
            "[nltk_data]    | Downloading package movie_reviews to\n",
            "[nltk_data]    |     /root/nltk_data...\n",
            "[nltk_data]    |   Unzipping corpora/movie_reviews.zip.\n",
            "[nltk_data]    | Downloading package nps_chat to /root/nltk_data...\n",
            "[nltk_data]    |   Unzipping corpora/nps_chat.zip.\n",
            "[nltk_data]    | Downloading package names to /root/nltk_data...\n",
            "[nltk_data]    |   Unzipping corpora/names.zip.\n",
            "[nltk_data]    | Downloading package ppattach to /root/nltk_data...\n",
            "[nltk_data]    |   Unzipping corpora/ppattach.zip.\n",
            "[nltk_data]    | Downloading package reuters to /root/nltk_data...\n",
            "[nltk_data]    | Downloading package senseval to /root/nltk_data...\n",
            "[nltk_data]    |   Unzipping corpora/senseval.zip.\n",
            "[nltk_data]    | Downloading package state_union to /root/nltk_data...\n",
            "[nltk_data]    |   Unzipping corpora/state_union.zip.\n",
            "[nltk_data]    | Downloading package stopwords to /root/nltk_data...\n",
            "[nltk_data]    |   Package stopwords is already up-to-date!\n",
            "[nltk_data]    | Downloading package swadesh to /root/nltk_data...\n",
            "[nltk_data]    |   Unzipping corpora/swadesh.zip.\n",
            "[nltk_data]    | Downloading package timit to /root/nltk_data...\n",
            "[nltk_data]    |   Unzipping corpora/timit.zip.\n",
            "[nltk_data]    | Downloading package treebank to /root/nltk_data...\n",
            "[nltk_data]    |   Unzipping corpora/treebank.zip.\n",
            "[nltk_data]    | Downloading package toolbox to /root/nltk_data...\n",
            "[nltk_data]    |   Unzipping corpora/toolbox.zip.\n",
            "[nltk_data]    | Downloading package udhr to /root/nltk_data...\n",
            "[nltk_data]    |   Unzipping corpora/udhr.zip.\n",
            "[nltk_data]    | Downloading package udhr2 to /root/nltk_data...\n",
            "[nltk_data]    |   Unzipping corpora/udhr2.zip.\n",
            "[nltk_data]    | Downloading package unicode_samples to\n",
            "[nltk_data]    |     /root/nltk_data...\n",
            "[nltk_data]    |   Unzipping corpora/unicode_samples.zip.\n",
            "[nltk_data]    | Downloading package webtext to /root/nltk_data...\n",
            "[nltk_data]    |   Unzipping corpora/webtext.zip.\n",
            "[nltk_data]    | Downloading package wordnet to /root/nltk_data...\n",
            "[nltk_data]    |   Package wordnet is already up-to-date!\n",
            "[nltk_data]    | Downloading package wordnet_ic to /root/nltk_data...\n",
            "[nltk_data]    |   Unzipping corpora/wordnet_ic.zip.\n",
            "[nltk_data]    | Downloading package words to /root/nltk_data...\n",
            "[nltk_data]    |   Package words is already up-to-date!\n",
            "[nltk_data]    | Downloading package maxent_treebank_pos_tagger to\n",
            "[nltk_data]    |     /root/nltk_data...\n",
            "[nltk_data]    |   Unzipping taggers/maxent_treebank_pos_tagger.zip.\n",
            "[nltk_data]    | Downloading package maxent_ne_chunker to\n",
            "[nltk_data]    |     /root/nltk_data...\n",
            "[nltk_data]    |   Package maxent_ne_chunker is already up-to-date!\n",
            "[nltk_data]    | Downloading package universal_tagset to\n",
            "[nltk_data]    |     /root/nltk_data...\n",
            "[nltk_data]    |   Unzipping taggers/universal_tagset.zip.\n",
            "[nltk_data]    | Downloading package punkt to /root/nltk_data...\n",
            "[nltk_data]    |   Package punkt is already up-to-date!\n",
            "[nltk_data]    | Downloading package book_grammars to\n",
            "[nltk_data]    |     /root/nltk_data...\n",
            "[nltk_data]    |   Unzipping grammars/book_grammars.zip.\n",
            "[nltk_data]    | Downloading package city_database to\n",
            "[nltk_data]    |     /root/nltk_data...\n",
            "[nltk_data]    |   Unzipping corpora/city_database.zip.\n",
            "[nltk_data]    | Downloading package tagsets to /root/nltk_data...\n",
            "[nltk_data]    |   Package tagsets is already up-to-date!\n",
            "[nltk_data]    | Downloading package panlex_swadesh to\n",
            "[nltk_data]    |     /root/nltk_data...\n",
            "[nltk_data]    | Downloading package averaged_perceptron_tagger to\n",
            "[nltk_data]    |     /root/nltk_data...\n",
            "[nltk_data]    |   Package averaged_perceptron_tagger is already up-\n",
            "[nltk_data]    |       to-date!\n",
            "[nltk_data]    | \n",
            "[nltk_data]  Done downloading collection book\n"
          ]
        },
        {
          "output_type": "stream",
          "name": "stdout",
          "text": [
            "*** Introductory Examples for the NLTK Book ***\n",
            "Loading text1, ..., text9 and sent1, ..., sent9\n",
            "Type the name of the text or sentence to view it.\n",
            "Type: 'texts()' or 'sents()' to list the materials.\n",
            "text1: Moby Dick by Herman Melville 1851\n",
            "text2: Sense and Sensibility by Jane Austen 1811\n",
            "text3: The Book of Genesis\n",
            "text4: Inaugural Address Corpus\n",
            "text5: Chat Corpus\n",
            "text6: Monty Python and the Holy Grail\n",
            "text7: Wall Street Journal\n",
            "text8: Personals Corpus\n",
            "text9: The Man Who Was Thursday by G . K . Chesterton 1908\n"
          ]
        }
      ]
    },
    {
      "cell_type": "code",
      "source": [
        "text8.concordance(\"man\")"
      ],
      "metadata": {
        "colab": {
          "base_uri": "https://localhost:8080/"
        },
        "id": "rv_j9CuB5fcM",
        "outputId": "c183bc6b-e7b6-4b10-b114-19577559d03d"
      },
      "execution_count": 78,
      "outputs": [
        {
          "output_type": "stream",
          "name": "stdout",
          "text": [
            "Displaying 14 of 14 matches:\n",
            " to hearing from you all . ABLE young man seeks , sexy older women . Phone for \n",
            "ble relationship . GENUINE ATTRACTIVE MAN 40 y . o ., no ties , secure , 5 ft .\n",
            "ship , and quality times . VIETNAMESE MAN Single , never married , financially \n",
            "ip . WELL DRESSED emotionally healthy man 37 like to meet full figured woman fo\n",
            " nth subs LIKE TO BE MISTRESS of YOUR MAN like to be treated well . Bold DTE no\n",
            "eeks lady in similar position MARRIED MAN 50 , attrac . fit , seeks lady 40 - 5\n",
            "eks nice girl 25 - 30 serious rship . Man 46 attractive fit , assertive , and k\n",
            " 40 - 50 sought by Aussie mid 40s b / man f / ship r / ship LOVE to meet widowe\n",
            "discreet times . Sth E Subs . MARRIED MAN 42yo 6ft , fit , seeks Lady for discr\n",
            "woman , seeks professional , employed man , with interests in theatre , dining \n",
            " tall and of large build seeks a good man . I am a nonsmoker , social drinker ,\n",
            "lead to relationship . SEEKING HONEST MAN I am 41 y . o ., 5 ft . 4 , med . bui\n",
            " quiet times . Seeks 35 - 45 , honest man with good SOH & similar interests , f\n",
            " genuine , caring , honest and normal man for fship , poss rship . S / S , S / \n"
          ]
        }
      ]
    },
    {
      "cell_type": "code",
      "source": [
        "text8.concordance(\"woman\")"
      ],
      "metadata": {
        "colab": {
          "base_uri": "https://localhost:8080/"
        },
        "id": "2XeIcsjC6By1",
        "outputId": "1d3f520e-06e6-4586-dcab-1972ea8ce763"
      },
      "execution_count": 79,
      "outputs": [
        {
          "output_type": "stream",
          "name": "stdout",
          "text": [
            "Displaying 11 of 11 matches:\n",
            "at home . Seeking an honest , caring woman , slim or med . build , who enjoys t\n",
            "thy man 37 like to meet full figured woman for relationship . 48 slim , shy , S\n",
            "rry . MALE 58 years old . Is there a Woman who would like to spend 1 weekend a \n",
            " other interests . Seeking Christian Woman for fship , view to rship . SWM 45 D\n",
            "ALE 60 - burly beared seeks intimate woman for outings n / s s / d F / ston / P\n",
            "ington . SCORPIO 47 seeks passionate woman for discreet intimate encounters SEX\n",
            "le dad . 42 , East sub . 5 \" 9 seeks woman 30 + for f / ship relationship TALL \n",
            "personal trainer looking for married woman age open for fun MARRIED Dark guy 37\n",
            "rinker , seeking slim - medium build woman who is happy in life , age open . AC\n",
            ". O . TERTIARY Educated professional woman , seeks professional , employed man \n",
            " real romantic , age 50 - 65 y . o . WOMAN OF SUBSTANCE 56 , 59 kg ., 50 , fit \n"
          ]
        }
      ]
    },
    {
      "cell_type": "code",
      "source": [
        "text8.dispersion_plot([\"woman\", \"lady\", \"girl\", \"gal\", \"man\", \"gentleman\", \"boy\", \"guy\"])"
      ],
      "metadata": {
        "colab": {
          "base_uri": "https://localhost:8080/",
          "height": 472
        },
        "id": "BvJo97kU6E-q",
        "outputId": "8eab3c26-fa54-4282-93a9-964fb3629025"
      },
      "execution_count": 80,
      "outputs": [
        {
          "output_type": "display_data",
          "data": {
            "text/plain": [
              "<Figure size 640x480 with 1 Axes>"
            ],
            "image/png": "[encoded data removed]"
          },
          "metadata": {}
        }
      ]
    },
    {
      "cell_type": "code",
      "source": [
        " text2.dispersion_plot([\"Allenham\", \"Whitwell\", \"Cleveland\", \"Combe\"])"
      ],
      "metadata": {
        "colab": {
          "base_uri": "https://localhost:8080/",
          "height": 472
        },
        "id": "beJs3_qY6Yyp",
        "outputId": "4e7564f7-d51b-4cc3-e3e7-2082090f00a5"
      },
      "execution_count": 81,
      "outputs": [
        {
          "output_type": "display_data",
          "data": {
            "text/plain": [
              "<Figure size 640x480 with 1 Axes>"
            ],
            "image/png": "[encoded data removed]"
          },
          "metadata": {}
        }
      ]
    },
    {
      "cell_type": "markdown",
      "source": [
        "## Frequency Distribution"
      ],
      "metadata": {
        "id": "ZR3wyiJf6klO"
      }
    },
    {
      "cell_type": "code",
      "source": [
        "from nltk import FreqDist"
      ],
      "metadata": {
        "id": "9nXgGA2D6nGj"
      },
      "execution_count": 82,
      "outputs": []
    },
    {
      "cell_type": "code",
      "source": [
        "frequency_distribution = FreqDist(text8)\n",
        "frequency_distribution.most_common(20)"
      ],
      "metadata": {
        "colab": {
          "base_uri": "https://localhost:8080/"
        },
        "id": "mEqd0D7v6sHY",
        "outputId": "729433f5-5af8-4b3f-c05c-8eb1d66d9346"
      },
      "execution_count": 83,
      "outputs": [
        {
          "output_type": "execute_result",
          "data": {
            "text/plain": [
              "[(',', 539),\n",
              " ('.', 353),\n",
              " ('/', 110),\n",
              " ('for', 99),\n",
              " ('and', 74),\n",
              " ('to', 74),\n",
              " ('lady', 68),\n",
              " ('-', 66),\n",
              " ('seeks', 60),\n",
              " ('a', 52),\n",
              " ('with', 44),\n",
              " ('S', 36),\n",
              " ('ship', 33),\n",
              " ('&', 30),\n",
              " ('relationship', 29),\n",
              " ('fun', 28),\n",
              " ('in', 27),\n",
              " ('slim', 27),\n",
              " ('build', 27),\n",
              " ('o', 26)]"
            ]
          },
          "metadata": {},
          "execution_count": 83
        }
      ]
    },
    {
      "cell_type": "code",
      "source": [
        "meaningful_words = [ word for word in text8 if word.casefold() not in stop_words ]\n",
        "meaningful_words"
      ],
      "metadata": {
        "colab": {
          "base_uri": "https://localhost:8080/"
        },
        "id": "k5C7Ks4q6ymg",
        "outputId": "9c1060fa-f005-4387-d49d-1d60302b425d"
      },
      "execution_count": 85,
      "outputs": [
        {
          "output_type": "execute_result",
          "data": {
            "text/plain": [
              "['25',\n",
              " 'SEXY',\n",
              " 'MALE',\n",
              " ',',\n",
              " 'seeks',\n",
              " 'attrac',\n",
              " 'older',\n",
              " 'single',\n",
              " 'lady',\n",
              " ',',\n",
              " 'discreet',\n",
              " 'encounters',\n",
              " '.',\n",
              " '35YO',\n",
              " 'Security',\n",
              " 'Guard',\n",
              " ',',\n",
              " 'seeking',\n",
              " 'lady',\n",
              " 'uniform',\n",
              " 'fun',\n",
              " 'times',\n",
              " '.',\n",
              " '40',\n",
              " 'yo',\n",
              " 'SINGLE',\n",
              " 'DAD',\n",
              " ',',\n",
              " 'sincere',\n",
              " 'friendly',\n",
              " 'DTE',\n",
              " 'seeks',\n",
              " 'r',\n",
              " '/',\n",
              " 'ship',\n",
              " 'fem',\n",
              " 'age',\n",
              " 'open',\n",
              " '/',\n",
              " 'E',\n",
              " '44yo',\n",
              " 'tall',\n",
              " 'seeks',\n",
              " 'working',\n",
              " 'single',\n",
              " 'mum',\n",
              " 'lady',\n",
              " '45',\n",
              " 'fship',\n",
              " 'rship',\n",
              " '.',\n",
              " 'Nat',\n",
              " 'Open',\n",
              " '6',\n",
              " '.',\n",
              " '2',\n",
              " '35',\n",
              " 'yr',\n",
              " 'old',\n",
              " 'OUTGOING',\n",
              " 'seeks',\n",
              " 'fem',\n",
              " '28',\n",
              " '-',\n",
              " '35',\n",
              " '/',\n",
              " 'door',\n",
              " 'sports',\n",
              " '-',\n",
              " 'w',\n",
              " '/',\n",
              " 'e',\n",
              " 'away',\n",
              " 'professional',\n",
              " 'business',\n",
              " 'male',\n",
              " ',',\n",
              " 'late',\n",
              " '40s',\n",
              " ',',\n",
              " '6',\n",
              " 'feet',\n",
              " 'tall',\n",
              " ',',\n",
              " 'slim',\n",
              " 'build',\n",
              " ',',\n",
              " 'well',\n",
              " 'groomed',\n",
              " ',',\n",
              " 'great',\n",
              " 'personality',\n",
              " ',',\n",
              " 'home',\n",
              " 'owner',\n",
              " ',',\n",
              " 'interests',\n",
              " 'include',\n",
              " 'arts',\n",
              " 'travel',\n",
              " 'things',\n",
              " 'good',\n",
              " ',',\n",
              " 'Ringwood',\n",
              " 'area',\n",
              " ',',\n",
              " 'seeking',\n",
              " 'genuine',\n",
              " 'female',\n",
              " 'similar',\n",
              " 'age',\n",
              " 'older',\n",
              " ',',\n",
              " 'area',\n",
              " 'surrounds',\n",
              " ',',\n",
              " 'meaningful',\n",
              " 'long',\n",
              " 'term',\n",
              " 'rship',\n",
              " '.',\n",
              " 'Looking',\n",
              " 'forward',\n",
              " 'hearing',\n",
              " '.',\n",
              " 'ABLE',\n",
              " 'young',\n",
              " 'man',\n",
              " 'seeks',\n",
              " ',',\n",
              " 'sexy',\n",
              " 'older',\n",
              " 'women',\n",
              " '.',\n",
              " 'Phone',\n",
              " 'fun',\n",
              " 'ready',\n",
              " 'play',\n",
              " 'AFFECTIONATE',\n",
              " 'LADY',\n",
              " 'Sought',\n",
              " 'generous',\n",
              " 'guy',\n",
              " ',',\n",
              " '40s',\n",
              " ',',\n",
              " 'mutual',\n",
              " 'fulfillment',\n",
              " 'ALONE',\n",
              " 'lost',\n",
              " 'r',\n",
              " '/',\n",
              " 'ship',\n",
              " ',',\n",
              " 'hope',\n",
              " 'sight',\n",
              " '?',\n",
              " 'Maybe',\n",
              " 'could',\n",
              " 'explore',\n",
              " 'new',\n",
              " 'beginnings',\n",
              " 'together',\n",
              " '?',\n",
              " 'Im',\n",
              " '45',\n",
              " 'Slim',\n",
              " '/',\n",
              " 'Med',\n",
              " 'build',\n",
              " ',',\n",
              " 'GSOH',\n",
              " ',',\n",
              " 'high',\n",
              " 'needs',\n",
              " 'looking',\n",
              " 'someone',\n",
              " 'similar',\n",
              " '.',\n",
              " 'WONT',\n",
              " 'disappointed',\n",
              " '.',\n",
              " 'AMIABLE',\n",
              " '43',\n",
              " '.',\n",
              " '.',\n",
              " 'gentleman',\n",
              " 'European',\n",
              " 'background',\n",
              " ',',\n",
              " '170',\n",
              " 'cm',\n",
              " ',',\n",
              " 'medium',\n",
              " 'build',\n",
              " ',',\n",
              " 'employed',\n",
              " ',',\n",
              " 'never',\n",
              " 'married',\n",
              " ',',\n",
              " 'children',\n",
              " '.',\n",
              " 'Enjoys',\n",
              " 'sports',\n",
              " ',',\n",
              " 'music',\n",
              " ',',\n",
              " 'cafes',\n",
              " ',',\n",
              " 'beach',\n",
              " '&',\n",
              " 'c',\n",
              " '.',\n",
              " 'Seeks',\n",
              " 'honest',\n",
              " ',',\n",
              " 'attractive',\n",
              " 'lady',\n",
              " 'European',\n",
              " 'background',\n",
              " ',',\n",
              " 'without',\n",
              " 'children',\n",
              " ',',\n",
              " 'would',\n",
              " 'like',\n",
              " 'get',\n",
              " 'married',\n",
              " 'chil',\n",
              " 'dren',\n",
              " 'future',\n",
              " '.',\n",
              " '29',\n",
              " '-',\n",
              " '39',\n",
              " '.',\n",
              " '.',\n",
              " 'Prefer',\n",
              " 'non',\n",
              " '-',\n",
              " 'smoker',\n",
              " 'living',\n",
              " 'Adelaide',\n",
              " '.',\n",
              " 'COPPER',\n",
              " 'REDHEAD',\n",
              " '?',\n",
              " '36',\n",
              " '.',\n",
              " '.',\n",
              " 'looking',\n",
              " 'companionship',\n",
              " '/',\n",
              " 'friendship',\n",
              " '.',\n",
              " 'enjoy',\n",
              " 'AFL',\n",
              " ',',\n",
              " 'animals',\n",
              " 'dining',\n",
              " '.',\n",
              " 'ATTRACTIVE',\n",
              " '43',\n",
              " '.',\n",
              " '.',\n",
              " '61',\n",
              " ',',\n",
              " 'medium',\n",
              " 'build',\n",
              " ',',\n",
              " 'financially',\n",
              " 'secure',\n",
              " ',',\n",
              " 'children',\n",
              " ',',\n",
              " 'seeks',\n",
              " 'attractive',\n",
              " 'lady',\n",
              " '40',\n",
              " '.',\n",
              " '.',\n",
              " 'children',\n",
              " '.',\n",
              " 'enjoy',\n",
              " 'beach',\n",
              " ',',\n",
              " 'sports',\n",
              " 'music',\n",
              " '.',\n",
              " 'View',\n",
              " 'permanent',\n",
              " 'relationship',\n",
              " '.',\n",
              " 'ATTRACTIVE',\n",
              " 'GUY',\n",
              " 'Late',\n",
              " '30s',\n",
              " ',',\n",
              " '57',\n",
              " ',',\n",
              " 'Taurus',\n",
              " '.',\n",
              " 'fitness',\n",
              " ',',\n",
              " 'cafes',\n",
              " ',',\n",
              " 'movies',\n",
              " ',',\n",
              " 'dinner',\n",
              " 'parties',\n",
              " '.',\n",
              " 'Seeks',\n",
              " 'female',\n",
              " 'friendship',\n",
              " 'fun',\n",
              " '.',\n",
              " 'AUSSIE',\n",
              " '39',\n",
              " 'Solid',\n",
              " 'build',\n",
              " ',',\n",
              " 'likes',\n",
              " 'music',\n",
              " ',',\n",
              " 'movies',\n",
              " ',',\n",
              " 'walks',\n",
              " 'beach',\n",
              " ',',\n",
              " 'single',\n",
              " ',',\n",
              " 'would',\n",
              " 'like',\n",
              " 'meet',\n",
              " 'lady',\n",
              " 'friendship',\n",
              " 'view',\n",
              " 'relationship',\n",
              " '.',\n",
              " 'AUSTRALIAN',\n",
              " 'FATHER',\n",
              " '58',\n",
              " '11',\n",
              " '.',\n",
              " '.',\n",
              " 'son',\n",
              " ',',\n",
              " 'living',\n",
              " '.',\n",
              " 'Seeks',\n",
              " 'nice',\n",
              " ',',\n",
              " 'caring',\n",
              " 'lady',\n",
              " 'likes',\n",
              " 'children',\n",
              " 'permanent',\n",
              " 'lationship',\n",
              " 'coastal',\n",
              " 'town',\n",
              " 'Eyre',\n",
              " 'Peninsula',\n",
              " '.',\n",
              " 'Age',\n",
              " 'open',\n",
              " '55',\n",
              " '.',\n",
              " 'AUSTRALIAN',\n",
              " ',',\n",
              " 'SLIM',\n",
              " ',',\n",
              " 'FUN',\n",
              " '5',\n",
              " 'ft',\n",
              " '.',\n",
              " '8',\n",
              " '.',\n",
              " 'Enjoy',\n",
              " 'BBQs',\n",
              " ',',\n",
              " 'sport',\n",
              " ',',\n",
              " 'fishing',\n",
              " ',',\n",
              " 'going',\n",
              " 'meal',\n",
              " '&',\n",
              " 'c',\n",
              " '.',\n",
              " 'Fun',\n",
              " '.',\n",
              " 'Looking',\n",
              " 'com',\n",
              " 'panion',\n",
              " ',',\n",
              " 'aged',\n",
              " '35',\n",
              " '-',\n",
              " '50',\n",
              " '.',\n",
              " 'Must',\n",
              " 'genuine',\n",
              " 'good',\n",
              " 'fun',\n",
              " '.',\n",
              " 'Possible',\n",
              " 'relationship',\n",
              " '.',\n",
              " 'BEAUTIFUL',\n",
              " ',',\n",
              " 'INTELLIGENT',\n",
              " 'CARING',\n",
              " ',',\n",
              " 'MUSICAL',\n",
              " 'Shy',\n",
              " ',',\n",
              " 'late',\n",
              " '20s',\n",
              " ',',\n",
              " 'size',\n",
              " '12',\n",
              " ',',\n",
              " 'long',\n",
              " 'blonde',\n",
              " 'hair',\n",
              " 'likes',\n",
              " 'drink',\n",
              " 'Guiness',\n",
              " '.',\n",
              " 'want',\n",
              " '.',\n",
              " 'BLONDE',\n",
              " 'HAIR',\n",
              " ',',\n",
              " 'BLUE',\n",
              " 'EYES',\n",
              " 'Medium',\n",
              " 'build',\n",
              " ',',\n",
              " 'Im',\n",
              " 'early',\n",
              " '30s',\n",
              " '.',\n",
              " 'honest',\n",
              " ',',\n",
              " 'caring',\n",
              " ',',\n",
              " 'likes',\n",
              " 'fishing',\n",
              " ',',\n",
              " 'animals',\n",
              " ',',\n",
              " 'golf',\n",
              " ',',\n",
              " 'bike',\n",
              " 'riding',\n",
              " ',',\n",
              " 'TV',\n",
              " 'DVDs',\n",
              " ',',\n",
              " 'quiet',\n",
              " 'nights',\n",
              " 'home',\n",
              " ',',\n",
              " 'kissing',\n",
              " 'cuddling',\n",
              " 'special',\n",
              " 'person',\n",
              " 'life',\n",
              " '.',\n",
              " 'Looking',\n",
              " 'caring',\n",
              " ',',\n",
              " 'honest',\n",
              " 'lady',\n",
              " 'friendship',\n",
              " 'relationship',\n",
              " '.',\n",
              " 'BUSINESSMAN',\n",
              " '60',\n",
              " \"''\",\n",
              " 'ish',\n",
              " 'Looking',\n",
              " 'lady',\n",
              " ',',\n",
              " 'non',\n",
              " '-',\n",
              " 'smoker',\n",
              " ',',\n",
              " '56',\n",
              " 'taller',\n",
              " 'business',\n",
              " 'outlook',\n",
              " ',',\n",
              " 'ties',\n",
              " ',',\n",
              " 'prepared',\n",
              " 'travel',\n",
              " 'enjoy',\n",
              " 'outdoor',\n",
              " 'sports',\n",
              " '(',\n",
              " 'cars',\n",
              " ',',\n",
              " 'boats',\n",
              " 'etc',\n",
              " '.),',\n",
              " 'wining',\n",
              " '/',\n",
              " 'dining',\n",
              " '.',\n",
              " 'Must',\n",
              " '.',\n",
              " '.',\n",
              " 'h',\n",
              " '.',\n",
              " 'modern',\n",
              " 'outlook',\n",
              " '.',\n",
              " 'CUDDLY',\n",
              " 'FULL',\n",
              " 'FIGURED',\n",
              " 'LADY',\n",
              " '50',\n",
              " 'plus',\n",
              " 'sought',\n",
              " 'Australian',\n",
              " 'gent',\n",
              " ',',\n",
              " 'early',\n",
              " '60s',\n",
              " ',',\n",
              " 'financially',\n",
              " 'secure',\n",
              " ',',\n",
              " 'non',\n",
              " '-',\n",
              " 'drinker',\n",
              " ',',\n",
              " 'non',\n",
              " 'smoker',\n",
              " ',',\n",
              " 'permanent',\n",
              " 'relationship',\n",
              " '.',\n",
              " 'FIT',\n",
              " 'ACTIVE',\n",
              " 'EASYGOING',\n",
              " '50',\n",
              " '.',\n",
              " '.',\n",
              " 'male',\n",
              " ',',\n",
              " '6',\n",
              " 'ft',\n",
              " '2',\n",
              " ',',\n",
              " 'med',\n",
              " '.',\n",
              " 'build',\n",
              " ',',\n",
              " 'fit',\n",
              " 'healthy',\n",
              " ',',\n",
              " 'fully',\n",
              " 'employed',\n",
              " 'ties',\n",
              " ',',\n",
              " 'non',\n",
              " 'smoker',\n",
              " ',',\n",
              " 'light',\n",
              " 'drinker',\n",
              " '.',\n",
              " 'Seeking',\n",
              " 'female',\n",
              " 'friend',\n",
              " ',',\n",
              " '40s',\n",
              " ',',\n",
              " 'attractive',\n",
              " '5',\n",
              " 'ft',\n",
              " '5',\n",
              " '+.',\n",
              " 'Med',\n",
              " '.',\n",
              " 'slim',\n",
              " 'build',\n",
              " '.',\n",
              " 'View',\n",
              " 'towards',\n",
              " 'permanent',\n",
              " 'relationship',\n",
              " '.',\n",
              " 'Give',\n",
              " 'call',\n",
              " 'lets',\n",
              " 'chat',\n",
              " '.',\n",
              " 'GENUINE',\n",
              " 'HONEST',\n",
              " 'Hi',\n",
              " 'Im',\n",
              " '44',\n",
              " 'good',\n",
              " 'sense',\n",
              " 'humour',\n",
              " ',',\n",
              " 'romantic',\n",
              " 'love',\n",
              " 'drives',\n",
              " ',',\n",
              " 'fishing',\n",
              " ',',\n",
              " 'camping',\n",
              " 'music',\n",
              " '.',\n",
              " 'Love',\n",
              " '2',\n",
              " 'kids',\n",
              " '.',\n",
              " 'looking',\n",
              " 'lady',\n",
              " 'similar',\n",
              " 'interests',\n",
              " ',',\n",
              " 'aged',\n",
              " '38',\n",
              " '-',\n",
              " '45',\n",
              " 'friendship',\n",
              " '/',\n",
              " 'possible',\n",
              " 'relationship',\n",
              " '.',\n",
              " 'GENUINE',\n",
              " 'ATTRACTIVE',\n",
              " 'MAN',\n",
              " '40',\n",
              " '.',\n",
              " '.,',\n",
              " 'ties',\n",
              " ',',\n",
              " 'secure',\n",
              " ',',\n",
              " '5',\n",
              " 'ft',\n",
              " '.',\n",
              " '9',\n",
              " ',',\n",
              " 'slim',\n",
              " 'build',\n",
              " '.',\n",
              " 'enjoy',\n",
              " 'outdoors',\n",
              " ',',\n",
              " 'gym',\n",
              " ',',\n",
              " 'beach',\n",
              " ',',\n",
              " 'country',\n",
              " 'drives',\n",
              " 'quiet',\n",
              " 'nights',\n",
              " 'home',\n",
              " '.',\n",
              " 'Seeking',\n",
              " 'honest',\n",
              " ',',\n",
              " 'caring',\n",
              " 'woman',\n",
              " ',',\n",
              " 'slim',\n",
              " 'med',\n",
              " '.',\n",
              " 'build',\n",
              " ',',\n",
              " 'enjoys',\n",
              " 'simple',\n",
              " 'things',\n",
              " 'life',\n",
              " '.',\n",
              " 'Age',\n",
              " 'open',\n",
              " '.',\n",
              " 'GOOD',\n",
              " 'LISTENER',\n",
              " 'Well',\n",
              " 'educated',\n",
              " ',',\n",
              " 'tall',\n",
              " ',',\n",
              " 'blue',\n",
              " 'eyes',\n",
              " ',',\n",
              " 'brown',\n",
              " 'hair',\n",
              " ',',\n",
              " 'Mid',\n",
              " '20s',\n",
              " ',',\n",
              " 'good',\n",
              " 'looking',\n",
              " ',',\n",
              " 'honest',\n",
              " 'n',\n",
              " '/',\n",
              " 'smoker',\n",
              " '.',\n",
              " 'Likes',\n",
              " 'movies',\n",
              " ',',\n",
              " 'drives',\n",
              " ',',\n",
              " 'nights',\n",
              " ',',\n",
              " 'looks',\n",
              " 'important',\n",
              " ',',\n",
              " 'distance',\n",
              " '/',\n",
              " 'speed',\n",
              " '.',\n",
              " 'Looking',\n",
              " 'someone',\n",
              " 'complete',\n",
              " 'social',\n",
              " 'circles',\n",
              " '.',\n",
              " 'Age',\n",
              " 'open',\n",
              " ',',\n",
              " 'friendship',\n",
              " '/',\n",
              " 'relationship',\n",
              " '.',\n",
              " 'GREEK',\n",
              " '/',\n",
              " 'AUST',\n",
              " '.',\n",
              " 'MALE',\n",
              " 'Early',\n",
              " '30s',\n",
              " ',',\n",
              " '57',\n",
              " ',',\n",
              " 'slim',\n",
              " 'build',\n",
              " ',',\n",
              " 'non',\n",
              " '-',\n",
              " 'smoker',\n",
              " ',',\n",
              " 'enjoys',\n",
              " 'dining',\n",
              " ',',\n",
              " 'movies',\n",
              " ',',\n",
              " 'bbqs',\n",
              " '.,',\n",
              " 'football',\n",
              " 'quiet',\n",
              " 'nights',\n",
              " 'home',\n",
              " '.',\n",
              " 'Seeking',\n",
              " 'slim',\n",
              " ',',\n",
              " 'attractive',\n",
              " 'female',\n",
              " ',',\n",
              " '20',\n",
              " '-',\n",
              " '30',\n",
              " 'similar',\n",
              " 'interests',\n",
              " 'friend',\n",
              " 'ship',\n",
              " '/',\n",
              " 'relationship',\n",
              " '.',\n",
              " 'HANDSOME',\n",
              " 'BUSINESSMAN',\n",
              " 'Tall',\n",
              " ',',\n",
              " 'slim',\n",
              " ',',\n",
              " 'independant',\n",
              " ',',\n",
              " 'standing',\n",
              " ',',\n",
              " 'mid',\n",
              " '50s',\n",
              " ',',\n",
              " 'looking',\n",
              " 'classy',\n",
              " 'lady',\n",
              " 'wants',\n",
              " 'retain',\n",
              " 'privacy',\n",
              " ',',\n",
              " 'still',\n",
              " 'retain',\n",
              " 'independance',\n",
              " 'looking',\n",
              " 'special',\n",
              " 'private',\n",
              " 'relationship',\n",
              " '.',\n",
              " 'PICK',\n",
              " '!',\n",
              " 'PICK',\n",
              " '!',\n",
              " 'attention',\n",
              " 'Im',\n",
              " '35',\n",
              " '.',\n",
              " '.',\n",
              " '59',\n",
              " 'attractive',\n",
              " 'guy',\n",
              " ',',\n",
              " 'non',\n",
              " '-',\n",
              " 'smoker',\n",
              " '/',\n",
              " 'social',\n",
              " 'drinker',\n",
              " ',',\n",
              " 'fit',\n",
              " 'active',\n",
              " ',',\n",
              " 'seeking',\n",
              " 'slim',\n",
              " '-',\n",
              " 'medium',\n",
              " 'lady',\n",
              " 'friendship',\n",
              " '/',\n",
              " 'relationship',\n",
              " '.',\n",
              " 'LIMESTONE',\n",
              " 'COAST',\n",
              " 'REGION',\n",
              " 'Attractive',\n",
              " ',',\n",
              " '6',\n",
              " 'fit',\n",
              " 'healthy',\n",
              " '46',\n",
              " '.',\n",
              " '.',\n",
              " 'country',\n",
              " 'guy',\n",
              " '.',\n",
              " 'Interests',\n",
              " 'incl',\n",
              " '.',\n",
              " 'self',\n",
              " 'sufficiencies',\n",
              " ',',\n",
              " 'permaculture',\n",
              " 'animals',\n",
              " 'travel',\n",
              " 'would',\n",
              " 'like',\n",
              " 'meet',\n",
              " 'attractive',\n",
              " ',',\n",
              " 'non',\n",
              " '-',\n",
              " 'smoking',\n",
              " 'fun',\n",
              " 'loving',\n",
              " 'lady',\n",
              " '35',\n",
              " '-',\n",
              " '45',\n",
              " 'friendship',\n",
              " 'view',\n",
              " 'permanent',\n",
              " 'relationship',\n",
              " 'MALE',\n",
              " 'LATE',\n",
              " '50',\n",
              " \"''\",\n",
              " 'AUST',\n",
              " 'Single',\n",
              " ',',\n",
              " 'tall',\n",
              " ',',\n",
              " 'prof',\n",
              " '.',\n",
              " 'Interests',\n",
              " ':',\n",
              " 'Music',\n",
              " ',',\n",
              " 'theatre',\n",
              " ',',\n",
              " 'dining',\n",
              " ',',\n",
              " 'art',\n",
              " ',',\n",
              " 'beach',\n",
              " 'environment',\n",
              " '.',\n",
              " 'Seeking',\n",
              " 'female',\n",
              " 'similar',\n",
              " 'interests',\n",
              " 'share',\n",
              " 'concerts',\n",
              " ',',\n",
              " 'dining',\n",
              " 'etc',\n",
              " '.',\n",
              " 'OUTGOING',\n",
              " 'GUY',\n",
              " 'Late',\n",
              " '30s',\n",
              " ',',\n",
              " 'seeks',\n",
              " 'lady',\n",
              " ',',\n",
              " '25',\n",
              " '-',\n",
              " '50',\n",
              " ',',\n",
              " 'size',\n",
              " 'unimportant',\n",
              " 'fun',\n",
              " 'good',\n",
              " 'times',\n",
              " '.',\n",
              " 'RETIRED',\n",
              " 'GENT',\n",
              " 'Like',\n",
              " 'meet',\n",
              " 'slim',\n",
              " 'lady',\n",
              " 'long',\n",
              " 'term',\n",
              " 'caravan',\n",
              " 'travel',\n",
              " ',',\n",
              " 'heading',\n",
              " 'Darwin',\n",
              " 'May',\n",
              " ',',\n",
              " 'share',\n",
              " 'driving',\n",
              " '.',\n",
              " 'Must',\n",
              " 'sense',\n",
              " 'humour',\n",
              " ',',\n",
              " 'non',\n",
              " '-',\n",
              " 'smoker',\n",
              " '.',\n",
              " 'Age',\n",
              " 'open',\n",
              " '.',\n",
              " 'ROMANTIC',\n",
              " '35',\n",
              " '.',\n",
              " '.',\n",
              " 'one',\n",
              " 'child',\n",
              " '.',\n",
              " 'Likes',\n",
              " 'dining',\n",
              " ',',\n",
              " 'movies',\n",
              " ',',\n",
              " 'beach',\n",
              " ',',\n",
              " 'country',\n",
              " 'drives',\n",
              " ',',\n",
              " 'quiet',\n",
              " 'nights',\n",
              " ',',\n",
              " 'seeks',\n",
              " 'employed',\n",
              " '28',\n",
              " '-',\n",
              " '40',\n",
              " 'year',\n",
              " 'old',\n",
              " 'lady',\n",
              " 'relationship',\n",
              " '.',\n",
              " 'Clare',\n",
              " 'Barossa',\n",
              " 'region',\n",
              " 'northern',\n",
              " 'suburbs',\n",
              " ...]"
            ]
          },
          "metadata": {},
          "execution_count": 85
        }
      ]
    },
    {
      "cell_type": "code",
      "source": [
        "frequency_distribution = FreqDist(meaningful_words)\n",
        "frequency_distribution.most_common(20)"
      ],
      "metadata": {
        "colab": {
          "base_uri": "https://localhost:8080/"
        },
        "id": "sqD6Rnis69d5",
        "outputId": "1fa56a31-6b92-4897-dbeb-250d8468ac81"
      },
      "execution_count": 86,
      "outputs": [
        {
          "output_type": "execute_result",
          "data": {
            "text/plain": [
              "[(',', 539),\n",
              " ('.', 353),\n",
              " ('/', 110),\n",
              " ('lady', 68),\n",
              " ('-', 66),\n",
              " ('seeks', 60),\n",
              " ('ship', 33),\n",
              " ('&', 30),\n",
              " ('relationship', 29),\n",
              " ('fun', 28),\n",
              " ('slim', 27),\n",
              " ('build', 27),\n",
              " ('smoker', 23),\n",
              " ('50', 23),\n",
              " ('non', 22),\n",
              " ('movies', 22),\n",
              " ('good', 21),\n",
              " ('honest', 20),\n",
              " ('dining', 19),\n",
              " ('rship', 18)]"
            ]
          },
          "metadata": {},
          "execution_count": 86
        }
      ]
    },
    {
      "cell_type": "code",
      "source": [
        "frequency_distribution.plot(20, cumulative=True)"
      ],
      "metadata": {
        "colab": {
          "base_uri": "https://localhost:8080/",
          "height": 534
        },
        "id": "XVXsYTFR7I_M",
        "outputId": "3791781f-8478-41c1-ce4b-b842c823f6f9"
      },
      "execution_count": 87,
      "outputs": [
        {
          "output_type": "display_data",
          "data": {
            "text/plain": [
              "<Figure size 640x480 with 1 Axes>"
            ],
            "image/png": "[encoded data removed]"
          },
          "metadata": {}
        },
        {
          "output_type": "execute_result",
          "data": {
            "text/plain": [
              "<Axes: xlabel='Samples', ylabel='Cumulative Counts'>"
            ]
          },
          "metadata": {},
          "execution_count": 87
        }
      ]
    },
    {
      "cell_type": "markdown",
      "source": [
        "## Finding Collocations"
      ],
      "metadata": {
        "id": "6uMG3t6Y7dJW"
      }
    },
    {
      "cell_type": "code",
      "source": [
        "text8.collocations()"
      ],
      "metadata": {
        "colab": {
          "base_uri": "https://localhost:8080/"
        },
        "id": "XwOHf2Mn7M0s",
        "outputId": "36eeb2e9-cf82-4bf2-ac74-16e26b1c3972"
      },
      "execution_count": 88,
      "outputs": [
        {
          "output_type": "stream",
          "name": "stdout",
          "text": [
            "would like; medium build; social drinker; quiet nights; non smoker;\n",
            "long term; age open; Would like; easy going; financially secure; fun\n",
            "times; similar interests; Age open; weekends away; poss rship; well\n",
            "presented; never married; single mum; permanent relationship; slim\n",
            "build\n"
          ]
        }
      ]
    },
    {
      "cell_type": "code",
      "source": [
        "lemmatized_words = [lemmatizer.lemmatize(word) for word in text8]\n",
        "lemmatized_words[:10]"
      ],
      "metadata": {
        "colab": {
          "base_uri": "https://localhost:8080/"
        },
        "id": "9BX4GKQK7l5s",
        "outputId": "bff0aaa7-9892-4c13-9273-19845e4aed7c"
      },
      "execution_count": 90,
      "outputs": [
        {
          "output_type": "execute_result",
          "data": {
            "text/plain": [
              "['25', 'SEXY', 'MALE', ',', 'seek', 'attrac', 'older', 'single', 'lady', ',']"
            ]
          },
          "metadata": {},
          "execution_count": 90
        }
      ]
    },
    {
      "cell_type": "code",
      "source": [
        "new_text = nltk.Text(lemmatized_words)\n",
        "new_text.collocations()"
      ],
      "metadata": {
        "colab": {
          "base_uri": "https://localhost:8080/"
        },
        "id": "ee1HId477wCt",
        "outputId": "97ae194e-e4d7-4574-e1ef-690e91943984"
      },
      "execution_count": 92,
      "outputs": [
        {
          "output_type": "stream",
          "name": "stdout",
          "text": [
            "medium build; social drinker; non smoker; quiet night; long term;\n",
            "would like; age open; easy going; financially secure; Would like; fun\n",
            "time; similar interest; Age open; weekend away; well presented; never\n",
            "married; single mum; permanent relationship; year old; slim build\n"
          ]
        }
      ]
    }
  ]
}