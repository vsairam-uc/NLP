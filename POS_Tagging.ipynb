{
  "nbformat": 4,
  "nbformat_minor": 0,
  "metadata": {
    "colab": {
      "provenance": [],
      "authorship_tag": "ABX9TyODQT66x3L0skjKh6kQz9Z8",
      "include_colab_link": true
    },
    "kernelspec": {
      "name": "python3",
      "display_name": "Python 3"
    },
    "language_info": {
      "name": "python"
    }
  },
  "cells": [
    {
      "cell_type": "markdown",
      "metadata": {
        "id": "view-in-github",
        "colab_type": "text"
      },
      "source": [
        "<a href=\"https://colab.research.google.com/github/vsairam-uc/NLP/blob/main/POS_Tagging.ipynb\" target=\"_parent\"><img src=\"https://colab.research.google.com/assets/colab-badge.svg\" alt=\"Open In Colab\"/></a>"
      ]
    },
    {
      "cell_type": "code",
      "source": [
        "import nltk\n",
        "nltk.download('punkt')\n",
        "nltk.download('averaged_perceptron_tagger')"
      ],
      "metadata": {
        "colab": {
          "base_uri": "https://localhost:8080/"
        },
        "id": "GU33W4JVIMVI",
        "outputId": "ef3c55ea-1dc9-4bce-e133-012a372607aa"
      },
      "execution_count": 11,
      "outputs": [
        {
          "output_type": "stream",
          "name": "stderr",
          "text": [
            "[nltk_data] Downloading package punkt to /root/nltk_data...\n",
            "[nltk_data]   Package punkt is already up-to-date!\n",
            "[nltk_data] Downloading package averaged_perceptron_tagger to\n",
            "[nltk_data]     /root/nltk_data...\n",
            "[nltk_data]   Unzipping taggers/averaged_perceptron_tagger.zip.\n"
          ]
        },
        {
          "output_type": "execute_result",
          "data": {
            "text/plain": [
              "True"
            ]
          },
          "metadata": {},
          "execution_count": 11
        }
      ]
    },
    {
      "cell_type": "code",
      "execution_count": 22,
      "metadata": {
        "id": "b-KDYKakGhCu"
      },
      "outputs": [],
      "source": [
        "from nltk.tag import pos_tag\n",
        "from nltk.tokenize import word_tokenize\n",
        "from tabulate import tabulate"
      ]
    },
    {
      "cell_type": "code",
      "source": [
        "sentence = \"Computational and technological developments that incorporate natural language are proliferating.\""
      ],
      "metadata": {
        "id": "4z3FG2xpHvNN"
      },
      "execution_count": 23,
      "outputs": []
    },
    {
      "cell_type": "code",
      "source": [
        "tokens = word_tokenize(sentence)\n",
        "print(tokens)"
      ],
      "metadata": {
        "colab": {
          "base_uri": "https://localhost:8080/"
        },
        "id": "4K-UUBViIAf7",
        "outputId": "f75d8ead-c59b-46f4-a9ea-2a388796408e"
      },
      "execution_count": 24,
      "outputs": [
        {
          "output_type": "stream",
          "name": "stdout",
          "text": [
            "['Computational', 'and', 'technological', 'developments', 'that', 'incorporate', 'natural', 'language', 'are', 'proliferating', '.']\n"
          ]
        }
      ]
    },
    {
      "cell_type": "code",
      "source": [
        "nltk_tags = pos_tag(tokens)\n",
        "print(nltk_tags)"
      ],
      "metadata": {
        "colab": {
          "base_uri": "https://localhost:8080/"
        },
        "id": "67CKWH_EIII-",
        "outputId": "32488bf3-7b3d-4bbd-f616-49dd6ee4d495"
      },
      "execution_count": 25,
      "outputs": [
        {
          "output_type": "stream",
          "name": "stdout",
          "text": [
            "[('Computational', 'NNP'), ('and', 'CC'), ('technological', 'JJ'), ('developments', 'NNS'), ('that', 'WDT'), ('incorporate', 'VBP'), ('natural', 'JJ'), ('language', 'NN'), ('are', 'VBP'), ('proliferating', 'VBG'), ('.', '.')]\n"
          ]
        }
      ]
    },
    {
      "cell_type": "code",
      "source": [
        "print(tabulate(nltk_tags,['token', 'tag'], 'simple'))"
      ],
      "metadata": {
        "colab": {
          "base_uri": "https://localhost:8080/"
        },
        "id": "eLsL9PdUIhK9",
        "outputId": "67c65ada-d4b6-426b-9361-30c466940124"
      },
      "execution_count": 26,
      "outputs": [
        {
          "output_type": "stream",
          "name": "stdout",
          "text": [
            "token          tag\n",
            "-------------  -----\n",
            "Computational  NNP\n",
            "and            CC\n",
            "technological  JJ\n",
            "developments   NNS\n",
            "that           WDT\n",
            "incorporate    VBP\n",
            "natural        JJ\n",
            "language       NN\n",
            "are            VBP\n",
            "proliferating  VBG\n",
            ".              .\n"
          ]
        }
      ]
    },
    {
      "cell_type": "code",
      "source": [
        "sentence_with_errors = \"Computashional and techological developments that incorperate natural language are proliferating.\""
      ],
      "metadata": {
        "id": "sqGRE_o2IsMz"
      },
      "execution_count": 39,
      "outputs": []
    },
    {
      "cell_type": "code",
      "source": [
        "token_error_sentence = word_tokenize(sentence_with_errors)\n",
        "nltk_tags_error_sentence = pos_tag(token_error_sentence)"
      ],
      "metadata": {
        "id": "WfqWOedWKx3-"
      },
      "execution_count": 40,
      "outputs": []
    },
    {
      "cell_type": "code",
      "source": [
        "print(nltk_tags_error_sentence)"
      ],
      "metadata": {
        "colab": {
          "base_uri": "https://localhost:8080/"
        },
        "id": "meQEZAftK53u",
        "outputId": "b9ef284d-46ed-4009-a925-5aa208c6f73f"
      },
      "execution_count": 41,
      "outputs": [
        {
          "output_type": "stream",
          "name": "stdout",
          "text": [
            "[('Computashional', 'NNP'), ('and', 'CC'), ('techological', 'JJ'), ('developments', 'NNS'), ('that', 'WDT'), ('incorperate', 'VBP'), ('natural', 'JJ'), ('language', 'NN'), ('are', 'VBP'), ('proliferating', 'VBG'), ('.', '.')]\n"
          ]
        }
      ]
    },
    {
      "cell_type": "code",
      "source": [
        "print(tabulate(nltk_tags,['token', 'tag'], 'simple'))"
      ],
      "metadata": {
        "colab": {
          "base_uri": "https://localhost:8080/"
        },
        "id": "tZJlCKhYLJ8n",
        "outputId": "7caeeb65-451f-4b11-e9d6-837066a7848d"
      },
      "execution_count": 42,
      "outputs": [
        {
          "output_type": "stream",
          "name": "stdout",
          "text": [
            "token          tag\n",
            "-------------  -----\n",
            "Computational  NNP\n",
            "and            CC\n",
            "technological  JJ\n",
            "developments   NNS\n",
            "that           WDT\n",
            "incorporate    VBP\n",
            "natural        JJ\n",
            "language       NN\n",
            "are            VBP\n",
            "proliferating  VBG\n",
            ".              .\n"
          ]
        }
      ]
    },
    {
      "cell_type": "code",
      "source": [
        "print(tabulate([(a +b) for a,b in zip(nltk_tags, nltk_tags_error_sentence)]))"
      ],
      "metadata": {
        "colab": {
          "base_uri": "https://localhost:8080/"
        },
        "id": "zeq2CJZOLPpG",
        "outputId": "8522cdb0-7d29-444e-8a63-790bd0ea48bf"
      },
      "execution_count": 44,
      "outputs": [
        {
          "output_type": "stream",
          "name": "stdout",
          "text": [
            "-------------  ---  --------------  ---\n",
            "Computational  NNP  Computashional  NNP\n",
            "and            CC   and             CC\n",
            "technological  JJ   techological    JJ\n",
            "developments   NNS  developments    NNS\n",
            "that           WDT  that            WDT\n",
            "incorporate    VBP  incorperate     VBP\n",
            "natural        JJ   natural         JJ\n",
            "language       NN   language        NN\n",
            "are            VBP  are             VBP\n",
            "proliferating  VBG  proliferating   VBG\n",
            ".              .    .               .\n",
            "-------------  ---  --------------  ---\n"
          ]
        }
      ]
    },
    {
      "cell_type": "code",
      "source": [],
      "metadata": {
        "id": "2b_GFdMRLaTJ"
      },
      "execution_count": null,
      "outputs": []
    }
  ]
}